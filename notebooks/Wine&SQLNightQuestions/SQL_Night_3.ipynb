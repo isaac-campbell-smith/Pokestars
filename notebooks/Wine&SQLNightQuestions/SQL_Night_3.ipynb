{
 "cells": [
  {
   "cell_type": "code",
   "execution_count": 1,
   "metadata": {},
   "outputs": [
    {
     "name": "stdout",
     "output_type": "stream",
     "text": [
      "Requirement already satisfied: psycopg2 in /Library/Python/anaconda3/lib/python3.7/site-packages (2.8.4)\n"
     ]
    }
   ],
   "source": [
    "!pip install psycopg2"
   ]
  },
  {
   "cell_type": "code",
   "execution_count": 1,
   "metadata": {},
   "outputs": [],
   "source": [
    "import psycopg2\n",
    "\n",
    "import sys\n",
    "sys.path.append('../../')\n",
    "from src.pySQL_funcs import pretty_query\n",
    "\n",
    "with open('../../src/pw') as pw_file:\n",
    "    pw = pw_file.readline()"
   ]
  },
  {
   "cell_type": "markdown",
   "metadata": {},
   "source": [
    "LINK TO DATABASE INFO & SCHEMA: https://github.com/isaac-campbell-smith/Pokestars"
   ]
  },
  {
   "cell_type": "code",
   "execution_count": 2,
   "metadata": {},
   "outputs": [],
   "source": [
    "conn = psycopg2.connect(pw)\n",
    "cur = conn.cursor()"
   ]
  },
  {
   "cell_type": "markdown",
   "metadata": {},
   "source": [
    "### OVERARCHING QUESTION\n",
    "Volcarona is one of my all-time favorite Pokemon - a powerful fire, bug type reminiscent of Mothra with some of the highest base stat totals in the competitively legal Pokedex. Unfortunately in the first 3 generations since it's release it suffered a fate shared by Charizard, Butterfree and Articuno known as 'Stealth Rock Syndrome'. In the most recent generation however, a new item was released that has helped make Volcarona a Top-10 threat in the meta-game. Today we'll be diving into identify what that item is, quantify how much it boosted Volcarona's usage, and look at who else benefited from this new item. "
   ]
  },
  {
   "cell_type": "markdown",
   "metadata": {},
   "source": [
    "### QUESTION 1.a\n",
    "\n",
    "Start by writing a query to identify the name of this item. Serendipitously, it has the highest item count. A starter table containing Volcarona's usage and every item detail for all months has been provided (in lieu of an actually simple warm-up)\n",
    "<br><br>\n",
    "Your output table should include all the columns in the starter table:\n",
    "<br>\n",
    "usage (from the Battles table), item_name, item_count, month\n",
    "<br><br>\n",
    "[Solution](#Q1.a)"
   ]
  },
  {
   "cell_type": "code",
   "execution_count": 3,
   "metadata": {},
   "outputs": [
    {
     "data": {
      "text/html": [
       "<div>\n",
       "<style scoped>\n",
       "    .dataframe tbody tr th:only-of-type {\n",
       "        vertical-align: middle;\n",
       "    }\n",
       "\n",
       "    .dataframe tbody tr th {\n",
       "        vertical-align: top;\n",
       "    }\n",
       "\n",
       "    .dataframe thead th {\n",
       "        text-align: right;\n",
       "    }\n",
       "</style>\n",
       "<table border=\"1\" class=\"dataframe\">\n",
       "  <thead>\n",
       "    <tr style=\"text-align: right;\">\n",
       "      <th></th>\n",
       "      <th>usage</th>\n",
       "      <th>item_name</th>\n",
       "      <th>item_count</th>\n",
       "      <th>month</th>\n",
       "    </tr>\n",
       "  </thead>\n",
       "  <tbody>\n",
       "    <tr>\n",
       "      <th>0</th>\n",
       "      <td>0.039162</td>\n",
       "      <td>armorfossil</td>\n",
       "      <td>23.0</td>\n",
       "      <td>08-2015</td>\n",
       "    </tr>\n",
       "    <tr>\n",
       "      <th>1</th>\n",
       "      <td>0.039162</td>\n",
       "      <td>scopelens</td>\n",
       "      <td>120.0</td>\n",
       "      <td>08-2015</td>\n",
       "    </tr>\n",
       "    <tr>\n",
       "      <th>2</th>\n",
       "      <td>0.039162</td>\n",
       "      <td>figyberry</td>\n",
       "      <td>7.0</td>\n",
       "      <td>08-2015</td>\n",
       "    </tr>\n",
       "    <tr>\n",
       "      <th>3</th>\n",
       "      <td>0.039162</td>\n",
       "      <td>zoomlens</td>\n",
       "      <td>72.0</td>\n",
       "      <td>08-2015</td>\n",
       "    </tr>\n",
       "    <tr>\n",
       "      <th>4</th>\n",
       "      <td>0.039162</td>\n",
       "      <td>blackbelt</td>\n",
       "      <td>17.0</td>\n",
       "      <td>08-2015</td>\n",
       "    </tr>\n",
       "    <tr>\n",
       "      <th>...</th>\n",
       "      <td>...</td>\n",
       "      <td>...</td>\n",
       "      <td>...</td>\n",
       "      <td>...</td>\n",
       "    </tr>\n",
       "    <tr>\n",
       "      <th>5729</th>\n",
       "      <td>0.185429</td>\n",
       "      <td>occaberry</td>\n",
       "      <td>20.0</td>\n",
       "      <td>09-2020</td>\n",
       "    </tr>\n",
       "    <tr>\n",
       "      <th>5730</th>\n",
       "      <td>0.185429</td>\n",
       "      <td>sitrusberry</td>\n",
       "      <td>1646.0</td>\n",
       "      <td>09-2020</td>\n",
       "    </tr>\n",
       "    <tr>\n",
       "      <th>5731</th>\n",
       "      <td>0.185429</td>\n",
       "      <td>cobaberry</td>\n",
       "      <td>18.0</td>\n",
       "      <td>09-2020</td>\n",
       "    </tr>\n",
       "    <tr>\n",
       "      <th>5732</th>\n",
       "      <td>0.185429</td>\n",
       "      <td>masterball</td>\n",
       "      <td>2.0</td>\n",
       "      <td>09-2020</td>\n",
       "    </tr>\n",
       "    <tr>\n",
       "      <th>5733</th>\n",
       "      <td>0.185429</td>\n",
       "      <td>salacberry</td>\n",
       "      <td>376.0</td>\n",
       "      <td>09-2020</td>\n",
       "    </tr>\n",
       "  </tbody>\n",
       "</table>\n",
       "<p>5734 rows × 4 columns</p>\n",
       "</div>"
      ],
      "text/plain": [
       "         usage    item_name  item_count    month\n",
       "0     0.039162  armorfossil        23.0  08-2015\n",
       "1     0.039162    scopelens       120.0  08-2015\n",
       "2     0.039162    figyberry         7.0  08-2015\n",
       "3     0.039162     zoomlens        72.0  08-2015\n",
       "4     0.039162    blackbelt        17.0  08-2015\n",
       "...        ...          ...         ...      ...\n",
       "5729  0.185429    occaberry        20.0  09-2020\n",
       "5730  0.185429  sitrusberry      1646.0  09-2020\n",
       "5731  0.185429    cobaberry        18.0  09-2020\n",
       "5732  0.185429   masterball         2.0  09-2020\n",
       "5733  0.185429   salacberry       376.0  09-2020\n",
       "\n",
       "[5734 rows x 4 columns]"
      ]
     },
     "execution_count": 3,
     "metadata": {},
     "output_type": "execute_result"
    }
   ],
   "source": [
    "query = \"\"\"\n",
    "SELECT b.usage, i.name AS item_name, \n",
    "       bi.count AS item_count, b.month\n",
    "  FROM battles AS b \n",
    "  JOIN pokemon AS p ON b.id=p.id\n",
    "  JOIN battle_items AS bi ON b.id=bi.id\n",
    "                AND b.month=bi.month\n",
    "  JOIN items i ON bi.item_id=i.id\n",
    " WHERE p.name='Volcarona'\n",
    "ORDER BY TO_DATE(b.month, 'MM YYYY')\n",
    ";\n",
    "\"\"\"\n",
    "pretty_query(cur, query, conn)"
   ]
  },
  {
   "cell_type": "markdown",
   "metadata": {},
   "source": [
    "### QUESTION 1.b\n",
    "Let's look at it from a slightly different metric. Get the item that appeared in the highest percentage of all Volcarona sets for a single month. Include all the same columns from 1.a but replace item_count w/ item_pct.<br><i>***HINT***</i> Before you try to do some overly complicated summation formula, double check the columns available to you in the battles table.<br><br>\n",
    "[Solution](#Q1.b)"
   ]
  },
  {
   "cell_type": "code",
   "execution_count": 4,
   "metadata": {},
   "outputs": [],
   "source": [
    "query = \"\"\"\n",
    ";\n",
    "\"\"\"\n",
    "pretty_query(cur, query, conn)"
   ]
  },
  {
   "cell_type": "markdown",
   "metadata": {},
   "source": [
    "### QUESTION 2.a\n",
    "Now I'd like to know what month had the biggest increase from the previous month in Volcarona's usage. You'll need to implement a LAG function to accomplish this. LAG is another WINDOW function (like RANK). Unlike RANK, the main column argument is passed in the first set of parentheses (RANK generally relies on the ORDER BY argument within the OVER parentheses). LAG returns a column with the same values of the corresponding column, offset by a specific interval.\n",
    "<br><br>\n",
    "The general syntax is:<br>\n",
    "> SELECT LAG(column, offset (<i>int</i>)) OVER()\n",
    "\n",
    "Note that the OVER parentheses are left blank here. Like the RANK function we looked at last week, PARTITION BY clauses can be and often are used here.  While you shouldn't need to use one to execute this query, LAG, RANK and other similar WINDOW functions will throw an error if you exclude the OVER() statement.\n",
    "\n",
    "FOR EXAMPLE:<br>\n",
    "\n",
    "| nums |\n",
    "|:----:|\n",
    "| 1 |\n",
    "| 2 |\n",
    "| 3 |\n",
    "| 4 |\n",
    "| 5 |\n",
    "\n",
    "> SELECT nums, LAG(nums, 1) OVER() <br>\n",
    "&nbsp;&nbsp;   FROM table;<br>\n",
    "\n",
    "OUTPUT: <br>\n",
    "\n",
    "| nums | lag |\n",
    "|:----:|:----:|\n",
    "| 1 | null |\n",
    "| 2 | 1 |\n",
    "| 3 | 2 |\n",
    "| 4 | 3 |\n",
    "| 5 | 4 |\n",
    "\n",
    "> SELECT nums, LAG(nums, 3) OVER() <br>\n",
    "&nbsp;&nbsp;   FROM table;<br>\n",
    "\n",
    "OUTPUT: <br>\n",
    "\n",
    "| nums | lag |\n",
    "|:----:|:----:|\n",
    "| 1 | null |\n",
    "| 2 | null |\n",
    "| 3 | null |\n",
    "| 4 | 1 |\n",
    "| 5 | 2 |\n",
    "\n",
    "[Solution](#Q2)"
   ]
  },
  {
   "cell_type": "code",
   "execution_count": 7,
   "metadata": {},
   "outputs": [],
   "source": [
    "query = \"\"\"\n",
    ";\n",
    "\"\"\"\n",
    "pretty_query(cur, query, conn)"
   ]
  },
  {
   "cell_type": "markdown",
   "metadata": {},
   "source": [
    "### QUESTION 2.b\n",
    "\n",
    "Let's revisit our RANK OVER function again and combine it with LAG. Which month did Volcarona see it's largest jump in the usage rankings from the previous month? <br><br>\n",
    "As a general thought exercise (which you're free to skip), think about out why this month is not the same as the month from question 2.a (spoiler lol) and which metric is more valid for understanding the importance of heavydutyboots for Volcarona's competitive viability. "
   ]
  },
  {
   "cell_type": "code",
   "execution_count": 8,
   "metadata": {},
   "outputs": [],
   "source": [
    "query = \"\"\"\n",
    ";\n",
    "\"\"\"\n",
    "pretty_query(cur, query, conn)"
   ]
  },
  {
   "cell_type": "markdown",
   "metadata": {},
   "source": [
    "### QUESTION 3\n",
    "\n",
    "There are 3 other pre-generation 8 Pokemon that greatly benefited from the addition of heavydutyboots. These 3 Pokemon utilized the item as their number 1 or 2 option and had a more than 5% change in their usage at the start of the current meta-game. Name these Pokemon. Try to incorporate the LAG function if you can (the alternative is more efficient though it will require a bit more code).  \n",
    "\n",
    "<br>\n",
    "<i>NOTE</i>: Generation 8 meta-game officially started in December 2019. \n",
    "<br><br>\n",
    "\n",
    "[Solution](#Q3)"
   ]
  },
  {
   "cell_type": "code",
   "execution_count": 9,
   "metadata": {},
   "outputs": [],
   "source": [
    "#USING LAG\n",
    "query = \"\"\"\n",
    ";\n",
    "\"\"\" \n",
    "pretty_query(cur, query, conn)"
   ]
  },
  {
   "cell_type": "markdown",
   "metadata": {},
   "source": [
    "# RUN THIS CELL WHEN YOU'RE DONE OR ELSE I WILL FIND YOU AND HURT YOU"
   ]
  },
  {
   "cell_type": "code",
   "execution_count": 16,
   "metadata": {},
   "outputs": [],
   "source": [
    "cur.close()  # Close the cursor\n",
    "conn.close()"
   ]
  },
  {
   "cell_type": "markdown",
   "metadata": {},
   "source": [
    "# SOLUTIONS"
   ]
  },
  {
   "cell_type": "markdown",
   "metadata": {},
   "source": [
    "# Q1.a"
   ]
  },
  {
   "cell_type": "code",
   "execution_count": 10,
   "metadata": {},
   "outputs": [
    {
     "data": {
      "text/html": [
       "<div>\n",
       "<style scoped>\n",
       "    .dataframe tbody tr th:only-of-type {\n",
       "        vertical-align: middle;\n",
       "    }\n",
       "\n",
       "    .dataframe tbody tr th {\n",
       "        vertical-align: top;\n",
       "    }\n",
       "\n",
       "    .dataframe thead th {\n",
       "        text-align: right;\n",
       "    }\n",
       "</style>\n",
       "<table border=\"1\" class=\"dataframe\">\n",
       "  <thead>\n",
       "    <tr style=\"text-align: right;\">\n",
       "      <th></th>\n",
       "      <th>usage</th>\n",
       "      <th>item_name</th>\n",
       "      <th>item_count</th>\n",
       "      <th>month</th>\n",
       "    </tr>\n",
       "  </thead>\n",
       "  <tbody>\n",
       "    <tr>\n",
       "      <td>0</td>\n",
       "      <td>0.192257</td>\n",
       "      <td>heavydutyboots</td>\n",
       "      <td>559531.0</td>\n",
       "      <td>08-2020</td>\n",
       "    </tr>\n",
       "  </tbody>\n",
       "</table>\n",
       "</div>"
      ],
      "text/plain": [
       "      usage       item_name  item_count    month\n",
       "0  0.192257  heavydutyboots    559531.0  08-2020"
      ]
     },
     "execution_count": 10,
     "metadata": {},
     "output_type": "execute_result"
    }
   ],
   "source": [
    "query = \"\"\"\n",
    "WITH volcarona AS\n",
    "            (SELECT b.usage, i.name AS item_name, \n",
    "                    bi.count AS item_count, b.month\n",
    "\n",
    "              FROM battles b JOIN pokemon p ON b.id=p.id\n",
    "              JOIN battle_items bi ON b.id=bi.id AND b.month=bi.month\n",
    "              JOIN items i ON bi.item_id=i.id\n",
    "              WHERE p.name='Volcarona'\n",
    "              ORDER BY TO_DATE(b.month, 'MM YYYY'))\n",
    "SELECT *\n",
    "  FROM volcarona\n",
    "  WHERE item_count=(SELECT MAX(item_count) FROM volcarona)\n",
    ";\n",
    "\"\"\"\n",
    "pretty_query(cur, query, conn)"
   ]
  },
  {
   "cell_type": "markdown",
   "metadata": {},
   "source": [
    "# Q1.b"
   ]
  },
  {
   "cell_type": "code",
   "execution_count": 11,
   "metadata": {},
   "outputs": [
    {
     "data": {
      "text/html": [
       "<div>\n",
       "<style scoped>\n",
       "    .dataframe tbody tr th:only-of-type {\n",
       "        vertical-align: middle;\n",
       "    }\n",
       "\n",
       "    .dataframe tbody tr th {\n",
       "        vertical-align: top;\n",
       "    }\n",
       "\n",
       "    .dataframe thead th {\n",
       "        text-align: right;\n",
       "    }\n",
       "</style>\n",
       "<table border=\"1\" class=\"dataframe\">\n",
       "  <thead>\n",
       "    <tr style=\"text-align: right;\">\n",
       "      <th></th>\n",
       "      <th>usage</th>\n",
       "      <th>item</th>\n",
       "      <th>item_pct</th>\n",
       "      <th>month</th>\n",
       "    </tr>\n",
       "  </thead>\n",
       "  <tbody>\n",
       "    <tr>\n",
       "      <td>0</td>\n",
       "      <td>0.110028</td>\n",
       "      <td>heavydutyboots</td>\n",
       "      <td>0.870265</td>\n",
       "      <td>06-2020</td>\n",
       "    </tr>\n",
       "  </tbody>\n",
       "</table>\n",
       "</div>"
      ],
      "text/plain": [
       "      usage            item  item_pct    month\n",
       "0  0.110028  heavydutyboots  0.870265  06-2020"
      ]
     },
     "execution_count": 11,
     "metadata": {},
     "output_type": "execute_result"
    }
   ],
   "source": [
    "query = \"\"\"\n",
    "WITH volcarona AS\n",
    "            (SELECT b.usage, i.name AS item, \n",
    "                    bi.count/b.count AS item_pct, b.month\n",
    "\n",
    "              FROM battles b JOIN pokemon p ON b.id=p.id\n",
    "              JOIN battle_items bi ON b.id=bi.id AND b.month=bi.month\n",
    "              JOIN items i ON bi.item_id=i.id\n",
    "              WHERE p.name='Volcarona'\n",
    "              ORDER BY TO_DATE(b.month, 'MM YYYY'))\n",
    "SELECT usage, item, item_pct, month\n",
    "  FROM volcarona\n",
    "  WHERE item_pct=(SELECT MAX(item_pct) FROM volcarona)\n",
    ";\n",
    "\"\"\"\n",
    "pretty_query(cur, query, conn)"
   ]
  },
  {
   "cell_type": "markdown",
   "metadata": {},
   "source": [
    "# Q2.a"
   ]
  },
  {
   "cell_type": "code",
   "execution_count": 17,
   "metadata": {
    "collapsed": true,
    "jupyter": {
     "outputs_hidden": true
    }
   },
   "outputs": [
    {
     "ename": "InterfaceError",
     "evalue": "connection already closed",
     "output_type": "error",
     "traceback": [
      "\u001b[0;31m---------------------------------------------------------------------------\u001b[0m",
      "\u001b[0;31mInterfaceError\u001b[0m                            Traceback (most recent call last)",
      "\u001b[0;32m<ipython-input-17-55c29b47b608>\u001b[0m in \u001b[0;36m<module>\u001b[0;34m\u001b[0m\n\u001b[1;32m     12\u001b[0m \u001b[0;34m;\u001b[0m\u001b[0;34m\u001b[0m\u001b[0;34m\u001b[0m\u001b[0m\n\u001b[1;32m     13\u001b[0m \"\"\"\n\u001b[0;32m---> 14\u001b[0;31m \u001b[0mpretty_query\u001b[0m\u001b[0;34m(\u001b[0m\u001b[0mcur\u001b[0m\u001b[0;34m,\u001b[0m \u001b[0mquery\u001b[0m\u001b[0;34m,\u001b[0m \u001b[0mconn\u001b[0m\u001b[0;34m)\u001b[0m\u001b[0;34m\u001b[0m\u001b[0;34m\u001b[0m\u001b[0m\n\u001b[0m",
      "\u001b[0;32m<ipython-input-3-7c5667861086>\u001b[0m in \u001b[0;36mpretty_query\u001b[0;34m(cur, query, conn)\u001b[0m\n\u001b[1;32m      1\u001b[0m \u001b[0;32mdef\u001b[0m \u001b[0mpretty_query\u001b[0m\u001b[0;34m(\u001b[0m\u001b[0mcur\u001b[0m\u001b[0;34m,\u001b[0m \u001b[0mquery\u001b[0m\u001b[0;34m,\u001b[0m \u001b[0mconn\u001b[0m\u001b[0;34m)\u001b[0m\u001b[0;34m:\u001b[0m\u001b[0;34m\u001b[0m\u001b[0;34m\u001b[0m\u001b[0m\n\u001b[0;32m----> 2\u001b[0;31m     \u001b[0mconn\u001b[0m\u001b[0;34m.\u001b[0m\u001b[0mrollback\u001b[0m\u001b[0;34m(\u001b[0m\u001b[0;34m)\u001b[0m \u001b[0;31m#if most recent query threw an error you will not be able to make another query without rollback\u001b[0m\u001b[0;34m\u001b[0m\u001b[0;34m\u001b[0m\u001b[0m\n\u001b[0m\u001b[1;32m      3\u001b[0m     \u001b[0mcur\u001b[0m\u001b[0;34m.\u001b[0m\u001b[0mexecute\u001b[0m\u001b[0;34m(\u001b[0m\u001b[0mquery\u001b[0m\u001b[0;34m)\u001b[0m\u001b[0;34m\u001b[0m\u001b[0;34m\u001b[0m\u001b[0m\n\u001b[1;32m      4\u001b[0m     \u001b[0mdata\u001b[0m \u001b[0;34m=\u001b[0m \u001b[0mcur\u001b[0m\u001b[0;34m.\u001b[0m\u001b[0mfetchall\u001b[0m\u001b[0;34m(\u001b[0m\u001b[0;34m)\u001b[0m\u001b[0;34m\u001b[0m\u001b[0;34m\u001b[0m\u001b[0m\n\u001b[1;32m      5\u001b[0m     \u001b[0;31m#cur.description stores SQL column information as a tuple\u001b[0m\u001b[0;34m\u001b[0m\u001b[0;34m\u001b[0m\u001b[0;34m\u001b[0m\u001b[0m\n",
      "\u001b[0;31mInterfaceError\u001b[0m: connection already closed"
     ]
    }
   ],
   "source": [
    "query = \"\"\"\n",
    "WITH volcarona \n",
    "  AS \n",
    "    (SELECT month, b.usage - LAG(b.usage, 1) OVER() AS diff\n",
    "      FROM battles AS b\n",
    "      JOIN pokemon AS p \n",
    "        ON b.id=p.id\n",
    "      WHERE p.name='Volcarona')\n",
    "SELECT diff, month FROM volcarona\n",
    "  WHERE diff=(SELECT MAX(diff) \n",
    "                FROM volcarona)\n",
    ";\n",
    "\"\"\"\n",
    "pretty_query(cur, query, conn)"
   ]
  },
  {
   "cell_type": "code",
   "execution_count": 15,
   "metadata": {},
   "outputs": [
    {
     "data": {
      "text/html": [
       "<div>\n",
       "<style scoped>\n",
       "    .dataframe tbody tr th:only-of-type {\n",
       "        vertical-align: middle;\n",
       "    }\n",
       "\n",
       "    .dataframe tbody tr th {\n",
       "        vertical-align: top;\n",
       "    }\n",
       "\n",
       "    .dataframe thead th {\n",
       "        text-align: right;\n",
       "    }\n",
       "</style>\n",
       "<table border=\"1\" class=\"dataframe\">\n",
       "  <thead>\n",
       "    <tr style=\"text-align: right;\">\n",
       "      <th></th>\n",
       "      <th>month</th>\n",
       "      <th>diff</th>\n",
       "    </tr>\n",
       "  </thead>\n",
       "  <tbody>\n",
       "    <tr>\n",
       "      <td>0</td>\n",
       "      <td>07-2020</td>\n",
       "      <td>0.052575</td>\n",
       "    </tr>\n",
       "  </tbody>\n",
       "</table>\n",
       "</div>"
      ],
      "text/plain": [
       "     month      diff\n",
       "0  07-2020  0.052575"
      ]
     },
     "execution_count": 15,
     "metadata": {},
     "output_type": "execute_result"
    }
   ],
   "source": [
    "query = \"\"\"\n",
    "SELECT month, b.usage - LAG(b.usage, 1) OVER() AS diff\n",
    "      FROM battles AS b\n",
    "      JOIN pokemon AS p \n",
    "        ON b.id=p.id\n",
    "      WHERE p.name='Volcarona'\n",
    "      ORDER BY diff DESC \n",
    "      LIMIT 1 OFFSET 1\n",
    ";\n",
    "\"\"\"\n",
    "pretty_query(cur, query, conn)"
   ]
  },
  {
   "cell_type": "markdown",
   "metadata": {},
   "source": [
    "# Q2.b"
   ]
  },
  {
   "cell_type": "code",
   "execution_count": 13,
   "metadata": {},
   "outputs": [
    {
     "data": {
      "text/html": [
       "<div>\n",
       "<style scoped>\n",
       "    .dataframe tbody tr th:only-of-type {\n",
       "        vertical-align: middle;\n",
       "    }\n",
       "\n",
       "    .dataframe tbody tr th {\n",
       "        vertical-align: top;\n",
       "    }\n",
       "\n",
       "    .dataframe thead th {\n",
       "        text-align: right;\n",
       "    }\n",
       "</style>\n",
       "<table border=\"1\" class=\"dataframe\">\n",
       "  <thead>\n",
       "    <tr style=\"text-align: right;\">\n",
       "      <th></th>\n",
       "      <th>month</th>\n",
       "    </tr>\n",
       "  </thead>\n",
       "  <tbody>\n",
       "    <tr>\n",
       "      <td>0</td>\n",
       "      <td>12-2016</td>\n",
       "    </tr>\n",
       "  </tbody>\n",
       "</table>\n",
       "</div>"
      ],
      "text/plain": [
       "     month\n",
       "0  12-2016"
      ]
     },
     "execution_count": 13,
     "metadata": {},
     "output_type": "execute_result"
    }
   ],
   "source": [
    "query = \"\"\"\n",
    "WITH \n",
    "    volcarona \n",
    "  AS \n",
    "    (SELECT month, rank, LAG(rank, 1) OVER() - rank AS diff \n",
    "      FROM (SELECT month, id, \n",
    "             RANK() OVER (PARTITION BY month ORDER BY usage DESC)\n",
    "              FROM battles\n",
    "            ORDER BY TO_DATE(month, 'MM YYYY')\n",
    "             ) t\n",
    "      JOIN pokemon AS p \n",
    "        ON t.id=p.id\n",
    "      WHERE p.name='Volcarona'\n",
    "      )\n",
    "      \n",
    "SELECT month\n",
    "  FROM volcarona\n",
    " WHERE diff=(SELECT MAX(diff) FROM volcarona)\n",
    ";\n",
    "\"\"\"\n",
    "pretty_query(cur, query, conn)"
   ]
  },
  {
   "cell_type": "markdown",
   "metadata": {},
   "source": [
    "Conceptual:<br>\n",
    "If you have a look at the ranking and usage (for any month really) there's a pretty steep cut cutoff outside of the very top Pokemon and eventually start to logjam asymptotically, so if a Pokemon were to climb from rank 60 to 50, it wouldn't take as much of a usage change as it would to get from 10 to 5. That's essentially what happened here and why changes in ranking aren't as insightful as change in usage (Volcarona climbed from 37 to 28 in Nov-Dec 2016 with a .009 usage increase, but 11 to 6 this summer with a .08 usage increase). Perhaps a more appropriate way to frame how it's rank has been affected by access to heavy duty boots is it's average ranking with and without heavy duty boots."
   ]
  },
  {
   "cell_type": "markdown",
   "metadata": {},
   "source": [
    "# Q3"
   ]
  },
  {
   "cell_type": "code",
   "execution_count": 14,
   "metadata": {},
   "outputs": [
    {
     "data": {
      "text/html": [
       "<div>\n",
       "<style scoped>\n",
       "    .dataframe tbody tr th:only-of-type {\n",
       "        vertical-align: middle;\n",
       "    }\n",
       "\n",
       "    .dataframe tbody tr th {\n",
       "        vertical-align: top;\n",
       "    }\n",
       "\n",
       "    .dataframe thead th {\n",
       "        text-align: right;\n",
       "    }\n",
       "</style>\n",
       "<table border=\"1\" class=\"dataframe\">\n",
       "  <thead>\n",
       "    <tr style=\"text-align: right;\">\n",
       "      <th></th>\n",
       "      <th>name</th>\n",
       "    </tr>\n",
       "  </thead>\n",
       "  <tbody>\n",
       "    <tr>\n",
       "      <td>0</td>\n",
       "      <td>Gyarados</td>\n",
       "    </tr>\n",
       "    <tr>\n",
       "      <td>1</td>\n",
       "      <td>Mandibuzz</td>\n",
       "    </tr>\n",
       "    <tr>\n",
       "      <td>2</td>\n",
       "      <td>Rotom-Heat</td>\n",
       "    </tr>\n",
       "  </tbody>\n",
       "</table>\n",
       "</div>"
      ],
      "text/plain": [
       "         name\n",
       "0    Gyarados\n",
       "1   Mandibuzz\n",
       "2  Rotom-Heat"
      ]
     },
     "execution_count": 14,
     "metadata": {},
     "output_type": "execute_result"
    }
   ],
   "source": [
    "#USING LAG\n",
    "query = \"\"\"\n",
    "WITH vt AS\n",
    "          (\n",
    "           SELECT p.name, b.usage, i.name AS item, bi.count, b.month,\n",
    "                  RANK() OVER(PARTITION BY bi.month, p.name ORDER BY bi.count DESC) AS item_rank\n",
    "             FROM battles b JOIN pokemon p ON b.id=p.id\n",
    "             JOIN battle_items bi ON b.id=bi.id AND b.month=bi.month\n",
    "             JOIN items i ON bi.item_id=i.id\n",
    "            WHERE p.name != 'Volcarona'\n",
    "              AND b.month IN ('11-2019', '12-2019')\n",
    "           )\n",
    "SELECT name\n",
    "  FROM\n",
    "      (\n",
    "       SELECT name, usage, item, month,\n",
    "              usage - \n",
    "              LAG(usage, 2) OVER(PARTITION BY name ORDER BY month) AS diff \n",
    "         FROM vt WHERE item_rank<=2\n",
    "       ) t\n",
    "       \n",
    " WHERE diff > 0.05 AND item='heavydutyboots'\n",
    ";\n",
    "\"\"\" \n",
    "pretty_query(cur, query, conn)"
   ]
  },
  {
   "cell_type": "code",
   "execution_count": 15,
   "metadata": {},
   "outputs": [
    {
     "data": {
      "text/html": [
       "<div>\n",
       "<style scoped>\n",
       "    .dataframe tbody tr th:only-of-type {\n",
       "        vertical-align: middle;\n",
       "    }\n",
       "\n",
       "    .dataframe tbody tr th {\n",
       "        vertical-align: top;\n",
       "    }\n",
       "\n",
       "    .dataframe thead th {\n",
       "        text-align: right;\n",
       "    }\n",
       "</style>\n",
       "<table border=\"1\" class=\"dataframe\">\n",
       "  <thead>\n",
       "    <tr style=\"text-align: right;\">\n",
       "      <th></th>\n",
       "      <th>name</th>\n",
       "    </tr>\n",
       "  </thead>\n",
       "  <tbody>\n",
       "    <tr>\n",
       "      <td>0</td>\n",
       "      <td>Gyarados</td>\n",
       "    </tr>\n",
       "    <tr>\n",
       "      <td>1</td>\n",
       "      <td>Mandibuzz</td>\n",
       "    </tr>\n",
       "    <tr>\n",
       "      <td>2</td>\n",
       "      <td>Rotom-Heat</td>\n",
       "    </tr>\n",
       "  </tbody>\n",
       "</table>\n",
       "</div>"
      ],
      "text/plain": [
       "         name\n",
       "0    Gyarados\n",
       "1   Mandibuzz\n",
       "2  Rotom-Heat"
      ]
     },
     "execution_count": 15,
     "metadata": {},
     "output_type": "execute_result"
    }
   ],
   "source": [
    "#ALTERNATIVE AND PERHAPS MORE EFFICIENT\n",
    "query = \"\"\"\n",
    "SELECT t1.name\n",
    "  FROM\n",
    "      (\n",
    "           SELECT p.name, b.usage, b.month\n",
    "             FROM battles b JOIN pokemon p ON b.id=p.id\n",
    "            WHERE b.month ='11-2019'\n",
    "      ) t1\n",
    "  JOIN \n",
    "      (\n",
    "           SELECT * \n",
    "             FROM \n",
    "                (\n",
    "                     SELECT p.name, b.usage, i.name AS item, \n",
    "                            RANK() OVER(PARTITION BY p.name ORDER BY bi.count DESC) AS item_rank, \n",
    "                            bi.count, b.month\n",
    "                       FROM battles b JOIN pokemon p ON b.id=p.id\n",
    "                       JOIN battle_items bi ON b.id=bi.id \n",
    "                                           AND b.month=bi.month\n",
    "                       JOIN items i ON bi.item_id=i.id\n",
    "                        WHERE b.month ='12-2019'\n",
    "                 ) t \n",
    "            WHERE item_rank<=2 \n",
    "              AND item='heavydutyboots'\n",
    "        ) t2\n",
    "          \n",
    "    ON t1.name=t2.name\n",
    " WHERE t2.usage - t1.usage > 0.05 \n",
    ";\n",
    "\"\"\"\n",
    "pretty_query(cur, query, conn)"
   ]
  },
  {
   "cell_type": "code",
   "execution_count": null,
   "metadata": {},
   "outputs": [],
   "source": []
  }
 ],
 "metadata": {
  "kernelspec": {
   "display_name": "Python 3",
   "language": "python",
   "name": "python3"
  },
  "language_info": {
   "codemirror_mode": {
    "name": "ipython",
    "version": 3
   },
   "file_extension": ".py",
   "mimetype": "text/x-python",
   "name": "python",
   "nbconvert_exporter": "python",
   "pygments_lexer": "ipython3",
   "version": "3.7.4"
  }
 },
 "nbformat": 4,
 "nbformat_minor": 4
}
