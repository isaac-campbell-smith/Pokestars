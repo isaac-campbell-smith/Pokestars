{
 "cells": [
  {
   "cell_type": "markdown",
   "metadata": {},
   "source": [
    "# credit Doug Hart: https://github.com/dougtheeconomist"
   ]
  },
  {
   "cell_type": "markdown",
   "metadata": {},
   "source": [
    "## If you weren't here last time, make sure the necessary installations are made\n",
    "If you were you can skip down to and run the cell containing the connection string for the database instance"
   ]
  },
  {
   "cell_type": "code",
   "execution_count": null,
   "metadata": {},
   "outputs": [],
   "source": [
    "!pip install pymssql"
   ]
  },
  {
   "cell_type": "markdown",
   "metadata": {},
   "source": [
    "#### For Mac users:\n",
    "You will need to install the following program in the terminal or the notebook will throw an error when importing pymssql.\n",
    "\n",
    "       brew install freetds\n",
    "\n",
    "Non Mac users may not need this install at all, but in the event that they do, an ubuntu version can be found here:\n",
    "    https://packages.ubuntu.com/search?keywords=FreeTDS"
   ]
  },
  {
   "cell_type": "markdown",
   "metadata": {},
   "source": [
    "## Run this cell to connect to the database and set up to make queries"
   ]
  },
  {
   "cell_type": "code",
   "execution_count": 1,
   "metadata": {},
   "outputs": [],
   "source": [
    "import pymssql\n",
    "import pandas as pd\n",
    "import scipy.stats as stats\n",
    "import matplotlib.pyplot as plt\n",
    "%matplotlib inline\n",
    "\n",
    "import sys\n",
    "sys.path.append('../../')\n",
    "\n",
    "with open('../../src/pw2') as pw_file:\n",
    "    server, user, pw, database = pw_file.readline().split(',')\n",
    "    \n",
    "conn = pymssql.connect(host=server,user=user,password=pw,database=database)\n",
    "cur = conn.cursor()"
   ]
  },
  {
   "cell_type": "markdown",
   "metadata": {},
   "source": [
    "## Answering questions:\n",
    "\n",
    "Once everyone is ready we'll dive into the following questions. The table schemas can be found at the bottom of this notebook, however you may find it easier to pull up the github readme for the project, which also contains these schema tables as an apendix at the end, in another window, link below:\n",
    "\n",
    "https://github.com/dougtheeconomist/flag-on-the-play/blob/master/README.md"
   ]
  },
  {
   "cell_type": "markdown",
   "metadata": {},
   "source": [
    "#### This time the primary goal is to do a little bit of data exploration in regards to penalties and coaching. "
   ]
  },
  {
   "cell_type": "markdown",
   "metadata": {},
   "source": [
    "## Task A\n",
    "To warm up, perform a simple query on the guest.team table to return the names and average penalties per season of the 10 coaches with the highest average penalties per season for the teams that they coached. "
   ]
  },
  {
   "cell_type": "code",
   "execution_count": 2,
   "metadata": {},
   "outputs": [],
   "source": [
    "def pretty_query(cur, query):\n",
    "    \"\"\"\n",
    "    Function to Pandas-prettify for Pythonic SQL Server queries\n",
    "    *NOTE* It is recommended to alias any aggregate calculation columns\n",
    "           because pymssql doesn't seem to auto generate one (returns an empty string).\n",
    "    \"\"\"\n",
    "    cur.execute(query)\n",
    "    data = cur.fetchall()\n",
    "    headers = [col[0] for col in cur.description]\n",
    "    out = pd.DataFrame(data=data, columns=headers)\n",
    "    return out"
   ]
  },
  {
   "cell_type": "code",
   "execution_count": 3,
   "metadata": {},
   "outputs": [
    {
     "data": {
      "text/html": [
       "<div>\n",
       "<style scoped>\n",
       "    .dataframe tbody tr th:only-of-type {\n",
       "        vertical-align: middle;\n",
       "    }\n",
       "\n",
       "    .dataframe tbody tr th {\n",
       "        vertical-align: top;\n",
       "    }\n",
       "\n",
       "    .dataframe thead th {\n",
       "        text-align: right;\n",
       "    }\n",
       "</style>\n",
       "<table border=\"1\" class=\"dataframe\">\n",
       "  <thead>\n",
       "    <tr style=\"text-align: right;\">\n",
       "      <th></th>\n",
       "      <th></th>\n",
       "      <th>coach_name</th>\n",
       "    </tr>\n",
       "  </thead>\n",
       "  <tbody>\n",
       "    <tr>\n",
       "      <th>0</th>\n",
       "      <td>134</td>\n",
       "      <td>Dan Campbell</td>\n",
       "    </tr>\n",
       "    <tr>\n",
       "      <th>1</th>\n",
       "      <td>132</td>\n",
       "      <td>Tom Cable</td>\n",
       "    </tr>\n",
       "    <tr>\n",
       "      <th>2</th>\n",
       "      <td>122</td>\n",
       "      <td>Freddie Kitchens</td>\n",
       "    </tr>\n",
       "    <tr>\n",
       "      <th>3</th>\n",
       "      <td>121</td>\n",
       "      <td>Adam Gase</td>\n",
       "    </tr>\n",
       "    <tr>\n",
       "      <th>4</th>\n",
       "      <td>121</td>\n",
       "      <td>Kliff Kingsbury</td>\n",
       "    </tr>\n",
       "    <tr>\n",
       "      <th>5</th>\n",
       "      <td>120</td>\n",
       "      <td>Hue Jackson</td>\n",
       "    </tr>\n",
       "    <tr>\n",
       "      <th>6</th>\n",
       "      <td>120</td>\n",
       "      <td>Pete Carroll</td>\n",
       "    </tr>\n",
       "    <tr>\n",
       "      <th>7</th>\n",
       "      <td>119</td>\n",
       "      <td>Doug Marrone</td>\n",
       "    </tr>\n",
       "    <tr>\n",
       "      <th>8</th>\n",
       "      <td>119</td>\n",
       "      <td>Jeff Fisher</td>\n",
       "    </tr>\n",
       "    <tr>\n",
       "      <th>9</th>\n",
       "      <td>119</td>\n",
       "      <td>Jon Gruden</td>\n",
       "    </tr>\n",
       "  </tbody>\n",
       "</table>\n",
       "</div>"
      ],
      "text/plain": [
       "              coach_name\n",
       "0  134      Dan Campbell\n",
       "1  132         Tom Cable\n",
       "2  122  Freddie Kitchens\n",
       "3  121         Adam Gase\n",
       "4  121   Kliff Kingsbury\n",
       "5  120       Hue Jackson\n",
       "6  120      Pete Carroll\n",
       "7  119      Doug Marrone\n",
       "8  119       Jeff Fisher\n",
       "9  119        Jon Gruden"
      ]
     },
     "execution_count": 3,
     "metadata": {},
     "output_type": "execute_result"
    }
   ],
   "source": [
    "query = \"\"\"\n",
    "\n",
    "SELECT TOP 10 AVG(against_count), coach_name\n",
    " FROM guest.teams\n",
    " GROUP BY coach_name\n",
    " ORDER BY AVG(against_count) DESC\n",
    "\n",
    ";\n",
    "\"\"\"\n",
    "pretty_query(cur, query)"
   ]
  },
  {
   "cell_type": "markdown",
   "metadata": {},
   "source": [
    "<details><summary>\n",
    "Possible solution:\n",
    "</summary>\n",
    "\n",
    "SELECT TOP 10 AVG(against_count), coach_name\n",
    "    \n",
    "FROM guest.teams\n",
    "    \n",
    "GROUP BY coach_name\n",
    "    \n",
    "ORDER BY AVG(against_count) DESC\n",
    "    ;"
   ]
  },
  {
   "cell_type": "markdown",
   "metadata": {},
   "source": [
    "## Task B\n",
    "### Part 1\n",
    "Now that we've seen which coaches manage teams with the highest penalties, we want to get a sense of the overall distribution of average coached penalties per season, and we want to do this visually. First write a query that returns the average penalties per season for all coaches and save the output of this query to a list or array."
   ]
  },
  {
   "cell_type": "code",
   "execution_count": 4,
   "metadata": {},
   "outputs": [],
   "source": [
    "query = \"\"\"\n",
    "\n",
    "SELECT AVG(against_count)\n",
    " FROM guest.teams\n",
    " GROUP BY coach_name\n",
    "\n",
    ";\n",
    "\"\"\"\n",
    "avg_penalties = pretty_query(cur, query)"
   ]
  },
  {
   "cell_type": "markdown",
   "metadata": {},
   "source": [
    "<details><summary>\n",
    "Possible solution:\n",
    "</summary>\n",
    "conn.rollback()s\n",
    "    \n",
    "query = \"\"\"\n",
    "    \n",
    "SELECT AVG(against_count)\n",
    "    \n",
    "FROM guest.teams\n",
    "    \n",
    "GROUP BY coach_name  \n",
    "\n",
    "    ;\"\"\"\n",
    "\n",
    "cur.execute(query)\n",
    "    \n",
    "list_for_graphing = cur.fetchall() "
   ]
  },
  {
   "cell_type": "markdown",
   "metadata": {},
   "source": [
    "### Part 2\n",
    "Now that you have your list of averages, we want to graph these as a histogram to get a sense of ovarall distribution. However, if we print the results of this query we will see that each item returned is a tuple rather than an individual value, and Python will not graph that well. So we need to isolate the first element from each of these tuples and only graph these (the second element is empty but Python wants to graph that in a really unhelpful way).\n",
    "\n",
    "Is it normally distributed?"
   ]
  },
  {
   "cell_type": "code",
   "execution_count": 5,
   "metadata": {},
   "outputs": [
    {
     "data": {
      "text/plain": [
       "array([[<AxesSubplot:>]], dtype=object)"
      ]
     },
     "execution_count": 5,
     "metadata": {},
     "output_type": "execute_result"
    },
    {
     "data": {
      "image/png": "[encoded data removed]",
      "text/plain": [
       "<Figure size 432x288 with 1 Axes>"
      ]
     },
     "metadata": {
      "needs_background": "light"
     },
     "output_type": "display_data"
    }
   ],
   "source": [
    "# Use your favorite graphing library to generate your histogram here\n",
    "avg_penalties.hist()"
   ]
  },
  {
   "cell_type": "markdown",
   "metadata": {},
   "source": [
    "<details><summary>\n",
    "Possible solution:\n",
    "</summary>\n",
    "for i in range(len(list_for_graphing)):\n",
    "    \n",
    "    list_for_graphing[i] = list_for_graphing[i][0]\n",
    "\n",
    "plt.hist(list_for_graphing)"
   ]
  },
  {
   "cell_type": "markdown",
   "metadata": {},
   "source": [
    "## Task C\n",
    "Another measurement that might be useful to look at is the variation around the average number of penalties across coaches. Repeat both parts of task B for standard deviation instead of the mean for coaches who have coached for more than 4 seasons."
   ]
  },
  {
   "cell_type": "code",
   "execution_count": 6,
   "metadata": {},
   "outputs": [],
   "source": [
    "query = \"\"\"\n",
    "\n",
    "SELECT STDEV(against_count)\n",
    " FROM guest.teams\n",
    " GROUP BY coach_name\n",
    "\n",
    ";\n",
    "\"\"\"\n",
    "std_penalties = pretty_query(cur, query)"
   ]
  },
  {
   "cell_type": "markdown",
   "metadata": {},
   "source": [
    "<details><summary>\n",
    "Possible solution:\n",
    "</summary>\n",
    "conn.rollback()s\n",
    "    \n",
    "query = \"\"\"\n",
    "    \n",
    "SELECT STDEV(against_count)\n",
    "    \n",
    "FROM guest.teams\n",
    "\n",
    "GROUP BY coach_name\n",
    "    \n",
    "HAVING COUNT(year) > 4\n",
    "\n",
    "    ;\"\"\"\n",
    "\n",
    "cur.execute(query)\n",
    "    \n",
    "list_for_graphing = cur.fetchall() \n",
    "  \n",
    "for i in range(len(list_for_graphing)):\n",
    "    \n",
    "    list_for_graphing[i] = list_for_graphing[i][0]"
   ]
  },
  {
   "cell_type": "code",
   "execution_count": 7,
   "metadata": {},
   "outputs": [
    {
     "data": {
      "text/plain": [
       "array([[<AxesSubplot:>]], dtype=object)"
      ]
     },
     "execution_count": 7,
     "metadata": {},
     "output_type": "execute_result"
    },
    {
     "data": {
      "image/png": "[encoded data removed]",
      "text/plain": [
       "<Figure size 432x288 with 1 Axes>"
      ]
     },
     "metadata": {
      "needs_background": "light"
     },
     "output_type": "display_data"
    }
   ],
   "source": [
    "# Use your favorite graphing library to generate your histogram here\n",
    "std_penalties.hist()"
   ]
  },
  {
   "cell_type": "markdown",
   "metadata": {},
   "source": [
    "## Task D\n",
    "### Part 1\n",
    "There clearly is an outlier when it comes to standard deviations by coach. Write a query to identify which coach this is. "
   ]
  },
  {
   "cell_type": "code",
   "execution_count": 8,
   "metadata": {},
   "outputs": [
    {
     "data": {
      "text/html": [
       "<div>\n",
       "<style scoped>\n",
       "    .dataframe tbody tr th:only-of-type {\n",
       "        vertical-align: middle;\n",
       "    }\n",
       "\n",
       "    .dataframe tbody tr th {\n",
       "        vertical-align: top;\n",
       "    }\n",
       "\n",
       "    .dataframe thead th {\n",
       "        text-align: right;\n",
       "    }\n",
       "</style>\n",
       "<table border=\"1\" class=\"dataframe\">\n",
       "  <thead>\n",
       "    <tr style=\"text-align: right;\">\n",
       "      <th></th>\n",
       "      <th></th>\n",
       "      <th>coach_name</th>\n",
       "    </tr>\n",
       "  </thead>\n",
       "  <tbody>\n",
       "    <tr>\n",
       "      <th>0</th>\n",
       "      <td>30.300872</td>\n",
       "      <td>Jack Del Rio</td>\n",
       "    </tr>\n",
       "  </tbody>\n",
       "</table>\n",
       "</div>"
      ],
      "text/plain": [
       "                coach_name\n",
       "0  30.300872  Jack Del Rio"
      ]
     },
     "execution_count": 8,
     "metadata": {},
     "output_type": "execute_result"
    }
   ],
   "source": [
    "query = \"\"\"\n",
    "\n",
    "SELECT TOP 1 STDEV(against_count), coach_name\n",
    " FROM guest.teams\n",
    " GROUP BY coach_name\n",
    " ORDER BY STDEV(against_count) DESC\n",
    "\n",
    ";\n",
    "\"\"\"\n",
    "pretty_query(cur, query)"
   ]
  },
  {
   "cell_type": "markdown",
   "metadata": {},
   "source": [
    "<details><summary>\n",
    "Possible solution:\n",
    "</summary>\n",
    "WITH coaches(name, deviation) AS \n",
    "    \n",
    "(SELECT DISTINCT coach_name AS name, STDEV(against_count) AS deviation\n",
    "    \n",
    "FROM guest.teams\n",
    "    \n",
    "GROUP BY coach_name\n",
    "    \n",
    "HAVING COUNT(year)>4)\n",
    "    \n",
    "\n",
    "SELECT deviation, name\n",
    "    \n",
    "FROM coaches\n",
    "    \n",
    "WHERE deviation = (SELECT MAX(deviation) FROM coaches)\n",
    "\n",
    "    ;"
   ]
  },
  {
   "cell_type": "markdown",
   "metadata": {},
   "source": [
    "### Part 2\n",
    "Now that you've identified *which* coach has this abnormal discrepancy in penalties per season, let's take a closer look and see why this is the case. Write a query to return the year, number of penalties and city for which the team he coaches plays for each year that he coaches. "
   ]
  },
  {
   "cell_type": "code",
   "execution_count": 9,
   "metadata": {},
   "outputs": [
    {
     "data": {
      "text/html": [
       "<div>\n",
       "<style scoped>\n",
       "    .dataframe tbody tr th:only-of-type {\n",
       "        vertical-align: middle;\n",
       "    }\n",
       "\n",
       "    .dataframe tbody tr th {\n",
       "        vertical-align: top;\n",
       "    }\n",
       "\n",
       "    .dataframe thead th {\n",
       "        text-align: right;\n",
       "    }\n",
       "</style>\n",
       "<table border=\"1\" class=\"dataframe\">\n",
       "  <thead>\n",
       "    <tr style=\"text-align: right;\">\n",
       "      <th></th>\n",
       "      <th>year</th>\n",
       "      <th>against_count</th>\n",
       "      <th>team_city</th>\n",
       "    </tr>\n",
       "  </thead>\n",
       "  <tbody>\n",
       "    <tr>\n",
       "      <th>0</th>\n",
       "      <td>2009</td>\n",
       "      <td>69</td>\n",
       "      <td>Jacksonville</td>\n",
       "    </tr>\n",
       "    <tr>\n",
       "      <th>1</th>\n",
       "      <td>2010</td>\n",
       "      <td>83</td>\n",
       "      <td>Jacksonville</td>\n",
       "    </tr>\n",
       "    <tr>\n",
       "      <th>2</th>\n",
       "      <td>2011</td>\n",
       "      <td>77</td>\n",
       "      <td>Jacksonville</td>\n",
       "    </tr>\n",
       "    <tr>\n",
       "      <th>3</th>\n",
       "      <td>2012</td>\n",
       "      <td>101</td>\n",
       "      <td>Jacksonville</td>\n",
       "    </tr>\n",
       "    <tr>\n",
       "      <th>4</th>\n",
       "      <td>2015</td>\n",
       "      <td>138</td>\n",
       "      <td>Oakland</td>\n",
       "    </tr>\n",
       "    <tr>\n",
       "      <th>5</th>\n",
       "      <td>2016</td>\n",
       "      <td>147</td>\n",
       "      <td>Oakland</td>\n",
       "    </tr>\n",
       "    <tr>\n",
       "      <th>6</th>\n",
       "      <td>2017</td>\n",
       "      <td>114</td>\n",
       "      <td>Oakland</td>\n",
       "    </tr>\n",
       "  </tbody>\n",
       "</table>\n",
       "</div>"
      ],
      "text/plain": [
       "   year  against_count     team_city\n",
       "0  2009             69  Jacksonville\n",
       "1  2010             83  Jacksonville\n",
       "2  2011             77  Jacksonville\n",
       "3  2012            101  Jacksonville\n",
       "4  2015            138       Oakland\n",
       "5  2016            147       Oakland\n",
       "6  2017            114       Oakland"
      ]
     },
     "execution_count": 9,
     "metadata": {},
     "output_type": "execute_result"
    }
   ],
   "source": [
    "query = \"\"\"\n",
    "SELECT year, against_count, team_city\n",
    " FROM guest.teams\n",
    " WHERE coach_name='Jack Del Rio'\n",
    " ORDER BY year\n",
    "\n",
    ";\n",
    "\"\"\"\n",
    "pretty_query(cur, query)"
   ]
  },
  {
   "cell_type": "markdown",
   "metadata": {},
   "source": [
    "<details><summary>\n",
    "Possible solution:\n",
    "</summary>\n",
    "SELECT against_count, year, team_city\n",
    "    \n",
    "FROM guest.teams\n",
    "\n",
    "WHERE coach_name = 'Jack Del Rio'\n",
    "\n",
    "    ;"
   ]
  },
  {
   "cell_type": "markdown",
   "metadata": {},
   "source": [
    "## Task E\n",
    "Putting coaching aside, let's take a final look at the Seahawks in particular; we know from previous explorations that they are the 5th highest penalized team since the 2009 season. Write a query to return the year and percentage of total penalties accrued around the league each year that were committed by Seattle. You can output the results as a percentage using SQL Server's built in FORMAT() function. For example:\n",
    "\n",
    "    SELECT FORMAT((37.0/38.0),'P') AS [Percentage] -- 97.37 %\n",
    "    \n",
    "Or to specify a different number of significant figures, include an integer after the 'P'\n",
    "\n",
    "    SELECT FORMAT((37.0/38.0),'P0') AS [WholeNumberPercentage] -- 97 %\n",
    "    SELECT FORMAT((37.0/38.0),'P3') AS [ThreeDecimalsPercentage] -- 97.368 %\n",
    "\n",
    "(Hint: since the numerical columns found within the relevant tables are integers and SQL will return a query result in the same data type as the column in question, it will be helpful to convert the relevant numbers to a float format, which can be done with SQL's CAST() function)"
   ]
  },
  {
   "cell_type": "code",
   "execution_count": 29,
   "metadata": {},
   "outputs": [
    {
     "data": {
      "text/html": [
       "<div>\n",
       "<style scoped>\n",
       "    .dataframe tbody tr th:only-of-type {\n",
       "        vertical-align: middle;\n",
       "    }\n",
       "\n",
       "    .dataframe tbody tr th {\n",
       "        vertical-align: top;\n",
       "    }\n",
       "\n",
       "    .dataframe thead th {\n",
       "        text-align: right;\n",
       "    }\n",
       "</style>\n",
       "<table border=\"1\" class=\"dataframe\">\n",
       "  <thead>\n",
       "    <tr style=\"text-align: right;\">\n",
       "      <th></th>\n",
       "      <th>year</th>\n",
       "      <th>p</th>\n",
       "    </tr>\n",
       "  </thead>\n",
       "  <tbody>\n",
       "    <tr>\n",
       "      <th>0</th>\n",
       "      <td>2009</td>\n",
       "      <td>3.14 %</td>\n",
       "    </tr>\n",
       "    <tr>\n",
       "      <th>1</th>\n",
       "      <td>2010</td>\n",
       "      <td>3.26 %</td>\n",
       "    </tr>\n",
       "    <tr>\n",
       "      <th>2</th>\n",
       "      <td>2011</td>\n",
       "      <td>4.17 %</td>\n",
       "    </tr>\n",
       "    <tr>\n",
       "      <th>3</th>\n",
       "      <td>2012</td>\n",
       "      <td>3.43 %</td>\n",
       "    </tr>\n",
       "    <tr>\n",
       "      <th>4</th>\n",
       "      <td>2013</td>\n",
       "      <td>4.09 %</td>\n",
       "    </tr>\n",
       "    <tr>\n",
       "      <th>5</th>\n",
       "      <td>2014</td>\n",
       "      <td>3.84 %</td>\n",
       "    </tr>\n",
       "    <tr>\n",
       "      <th>6</th>\n",
       "      <td>2015</td>\n",
       "      <td>3.30 %</td>\n",
       "    </tr>\n",
       "    <tr>\n",
       "      <th>7</th>\n",
       "      <td>2016</td>\n",
       "      <td>3.41 %</td>\n",
       "    </tr>\n",
       "    <tr>\n",
       "      <th>8</th>\n",
       "      <td>2017</td>\n",
       "      <td>4.33 %</td>\n",
       "    </tr>\n",
       "    <tr>\n",
       "      <th>9</th>\n",
       "      <td>2018</td>\n",
       "      <td>3.22 %</td>\n",
       "    </tr>\n",
       "    <tr>\n",
       "      <th>10</th>\n",
       "      <td>2019</td>\n",
       "      <td>3.16 %</td>\n",
       "    </tr>\n",
       "  </tbody>\n",
       "</table>\n",
       "</div>"
      ],
      "text/plain": [
       "    year       p\n",
       "0   2009  3.14 %\n",
       "1   2010  3.26 %\n",
       "2   2011  4.17 %\n",
       "3   2012  3.43 %\n",
       "4   2013  4.09 %\n",
       "5   2014  3.84 %\n",
       "6   2015  3.30 %\n",
       "7   2016  3.41 %\n",
       "8   2017  4.33 %\n",
       "9   2018  3.22 %\n",
       "10  2019  3.16 %"
      ]
     },
     "execution_count": 29,
     "metadata": {},
     "output_type": "execute_result"
    }
   ],
   "source": [
    "query = \"\"\"\n",
    "SELECT a.year, FORMAT((s.total_flags/a.total_flags), 'P') AS p\n",
    "  FROM (SELECT year, \n",
    "               CAST(SUM(against_count) AS float) AS total_flags \n",
    "          FROM guest.teams \n",
    "        GROUP BY year) a\n",
    "  JOIN (SELECT year, \n",
    "               CAST(SUM(against_count) AS float) AS total_flags\n",
    "          FROM guest.teams\n",
    "         WHERE team_city='Seattle'\n",
    "         GROUP BY year) s ON a.year=s.year\n",
    ";\n",
    "\"\"\"\n",
    "pretty_query(cur, query)"
   ]
  },
  {
   "cell_type": "markdown",
   "metadata": {},
   "source": [
    "<details><summary>\n",
    "Possible solution:\n",
    "</summary>\n",
    "WITH SUMMARY(y, total) AS (SELECT year AS y, CAST(SUM(against_count) AS float) AS total FROM guest.teams GROUP BY \n",
    "    \n",
    "    year)\n",
    "\n",
    "SELECT a.year, FORMAT((a.ac_hawks / b.total),'P') AS [Percentage] \n",
    "    \n",
    "FROM (SELECT year, (CAST(against_count AS float)) AS ac_hawks FROM guest.teams WHERE team_city = 'Seattle') a \n",
    "    \n",
    "JOIN SUMMARY b \n",
    "    \n",
    "ON a.year = b.y\n",
    "\n",
    "\n",
    "    ;"
   ]
  },
  {
   "cell_type": "markdown",
   "metadata": {},
   "source": [
    "# guest.teams Table Schema\n",
    "\n",
    "|id \t\t\t   | Description                                | Type      |\n",
    "|------------------|:-------------------------------------------|:----------|\n",
    "| year      \t   | Year of football season                    | INT       |\n",
    "| team_city \t   | City where team is located                 | VARCHAR   |\n",
    "| team_id   \t   | id number unique to team                   | INT       |\n",
    "| coach_name       | Name of team coach                         | VARCHAR   |\n",
    "| coach_id         | id number unique to coach                  | INT       |\n",
    "| ranking          | Rank of most to least penalized            | INT       |\n",
    "| games     \t   | Games played that season                   | INT       |\n",
    "| plays            | Number of plays that season                | INT       |\n",
    "| against_count    | Number of flags against team               | INT       |\n",
    "| agnst_yrds       | Total yards penalized in season            | INT       |\n",
    "| ben_count        | Number of flags on opposing team           | INT       |\n",
    "| ben_yrds     \t   | Yards given for opposing flags             | INT       |\n",
    "| net_count        | Team flags less opposing flags\t            | INT       |\n",
    "| net_yrds         | Yards lost plus yards gained from penalties| INT       |\n",
    "| total_flags      | Total flags thrown in team's games         | INT       |\n",
    "\n",
    "\n"
   ]
  },
  {
   "cell_type": "code",
   "execution_count": null,
   "metadata": {},
   "outputs": [],
   "source": []
  }
 ],
 "metadata": {
  "kernelspec": {
   "display_name": "Python 3",
   "language": "python",
   "name": "python3"
  },
  "language_info": {
   "codemirror_mode": {
    "name": "ipython",
    "version": 3
   },
   "file_extension": ".py",
   "mimetype": "text/x-python",
   "name": "python",
   "nbconvert_exporter": "python",
   "pygments_lexer": "ipython3",
   "version": "3.7.4"
  }
 },
 "nbformat": 4,
 "nbformat_minor": 4
}
