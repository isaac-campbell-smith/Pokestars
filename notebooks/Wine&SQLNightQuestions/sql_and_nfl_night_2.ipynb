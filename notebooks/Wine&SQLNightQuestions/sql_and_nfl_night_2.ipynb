{
 "cells": [
  {
   "cell_type": "markdown",
   "metadata": {},
   "source": [
    "## If you weren't here last time, make sure the necessary installations are made\n",
    "If you were you can skip down to and run the cell containing the connection string for the database instance"
   ]
  },
  {
   "cell_type": "code",
   "execution_count": 1,
   "metadata": {},
   "outputs": [
    {
     "name": "stdout",
     "output_type": "stream",
     "text": [
      "Requirement already satisfied: pymssql in /Library/Python/anaconda3/lib/python3.7/site-packages (2.1.5)\n"
     ]
    }
   ],
   "source": [
    "!pip install pymssql"
   ]
  },
  {
   "cell_type": "markdown",
   "metadata": {},
   "source": [
    "#### For Mac users:\n",
    "You will need to install the following program in the terminal or the notebook will throw an error when importing pymssql.\n",
    "\n",
    "       brew install freetds\n",
    "\n",
    "Non Mac users may not need this install at all, but in the event that they do, an ubuntu version can be found here:\n",
    "    https://packages.ubuntu.com/search?keywords=FreeTDS"
   ]
  },
  {
   "cell_type": "markdown",
   "metadata": {},
   "source": [
    "## Run this cell to connect to the database and set up to make queries"
   ]
  },
  {
   "cell_type": "code",
   "execution_count": 2,
   "metadata": {},
   "outputs": [],
   "source": [
    "import pandas as pd\n",
    "import pymssql\n",
    "\n",
    "import sys\n",
    "sys.path.append('../../')\n",
    "from src.pySQL_funcs import pretty_query\n",
    "\n",
    "with open('../../src/pw2') as pw_file:\n",
    "    server, user, pw, database = pw_file.readline().split(',')"
   ]
  },
  {
   "cell_type": "code",
   "execution_count": 3,
   "metadata": {},
   "outputs": [],
   "source": [
    "conn = pymssql.connect(host=server,user=user,password=pw,database=database)\n",
    "cur = conn.cursor()"
   ]
  },
  {
   "cell_type": "code",
   "execution_count": 4,
   "metadata": {},
   "outputs": [],
   "source": [
    "def pretty_query(cur, query):\n",
    "    \"\"\"\n",
    "    Function to Pandas-prettify for Pythonic SQL Server queries\n",
    "    *NOTE* It is recommended to alias any aggregate calculation columns\n",
    "           because pymssql doesn't seem to auto generate one (returns an empty string).\n",
    "    \"\"\"\n",
    "    cur.execute(query)\n",
    "    data = cur.fetchall()\n",
    "    headers = [col[0] for col in cur.description]\n",
    "    out = pd.DataFrame(data=data, columns=headers)\n",
    "    return out"
   ]
  },
  {
   "cell_type": "markdown",
   "metadata": {},
   "source": [
    "## Answering questions:\n",
    "\n",
    "Once everyone is ready we'll dive into the following questions. The table schemas can be found at the bottom of this notebook, however you may find it easier to pull up the github readme for the project, which also contains these schema tables, in another window, link below:\n",
    "\n",
    "https://github.com/dougtheeconomist/flag-on-the-play/blob/master/README.md"
   ]
  },
  {
   "cell_type": "markdown",
   "metadata": {},
   "source": [
    "We're picking up where we left off last time, where we created a table to identify players who had played for Seattle and another team in the NFL. This table displayed the player's name, the average penalties they accrued while on a specific team and the name of that team. To start everyone off with this session at the same spot I have provided the code for that query below."
   ]
  },
  {
   "cell_type": "markdown",
   "metadata": {},
   "source": [
    "## Task A\n",
    "Take the query provided from the end of last session below, and use it to create a temporary table. This will provide a convenient way for us to make further queries from the information on this table, which will be the focus of tonights exploration. From this temporary table write two querries: one that returns the average of the penalties column when the team is 'Seattle' and one when the team is not 'Seattle'.\n",
    "\n",
    "Remember that the syntax for creating and using a temporary table is:\n",
    "\n",
    ">WITH &nbsp;&nbsp; temp_table_name(column_label_1, column_label_2, etc.) <br>\n",
    "&nbsp;&nbsp;&nbsp;  AS <br>\n",
    "&nbsp;&nbsp;&nbsp;&nbsp;&nbsp;&nbsp;&nbsp;    ( QUERY )\n",
    "    <br>SELECT what-have-you FROM temp_table_name;"
   ]
  },
  {
   "cell_type": "markdown",
   "metadata": {},
   "source": [
    "## NOTE:\n",
    "creating a temporary table in one query does not keep this table globally for access by the next query; temporary means temporary! So copying and pasting the tables you create in previous queries into the new cells will be the most convenient way of re-using these."
   ]
  },
  {
   "cell_type": "code",
   "execution_count": 5,
   "metadata": {},
   "outputs": [
    {
     "data": {
      "text/html": [
       "<div>\n",
       "<style scoped>\n",
       "    .dataframe tbody tr th:only-of-type {\n",
       "        vertical-align: middle;\n",
       "    }\n",
       "\n",
       "    .dataframe tbody tr th {\n",
       "        vertical-align: top;\n",
       "    }\n",
       "\n",
       "    .dataframe thead th {\n",
       "        text-align: right;\n",
       "    }\n",
       "</style>\n",
       "<table border=\"1\" class=\"dataframe\">\n",
       "  <thead>\n",
       "    <tr style=\"text-align: right;\">\n",
       "      <th></th>\n",
       "      <th>avg_pen</th>\n",
       "      <th>team</th>\n",
       "    </tr>\n",
       "  </thead>\n",
       "  <tbody>\n",
       "    <tr>\n",
       "      <th>0</th>\n",
       "      <td>5.734127</td>\n",
       "      <td>not_Seattle</td>\n",
       "    </tr>\n",
       "    <tr>\n",
       "      <th>1</th>\n",
       "      <td>5.487738</td>\n",
       "      <td>Seattle</td>\n",
       "    </tr>\n",
       "  </tbody>\n",
       "</table>\n",
       "</div>"
      ],
      "text/plain": [
       "    avg_pen         team\n",
       "0  5.734127  not_Seattle\n",
       "1  5.487738      Seattle"
      ]
     },
     "execution_count": 5,
     "metadata": {},
     "output_type": "execute_result"
    }
   ],
   "source": [
    "query = \"\"\"\n",
    "WITH penalties AS (\n",
    "SELECT player_name AS name, AVG(CAST(pen_count AS float)) AS penalties, \n",
    "      CASE WHEN \n",
    "                team ='Seattle' THEN 'Seattle'\n",
    "                ELSE 'not_Seattle' END AS team\n",
    "\n",
    "FROM guest.players\n",
    "WHERE player_id IN (SELECT player_id FROM guest.players WHERE player_id IN (SELECT DISTINCT player_id FROM guest.players WHERE team = 'Seattle') GROUP BY player_id HAVING COUNT(DISTINCT team) > 1)\n",
    "GROUP BY team, player_name)\n",
    "SELECT AVG(penalties) as avg_pen, team FROM penalties GROUP BY team\n",
    ";\n",
    "\"\"\"\n",
    "pretty_query(cur, query)"
   ]
  },
  {
   "cell_type": "markdown",
   "metadata": {},
   "source": [
    "<details><summary>\n",
    "Possible answer:\n",
    "</summary>\n",
    "WITH temp(name,penalties,team)\n",
    "    \n",
    "    AS\n",
    "    \n",
    "    (SELECT player_name AS name, AVG(CAST(pen_count AS float)) AS penalties, team\n",
    "\n",
    "    FROM guest.players\n",
    "\n",
    "    WHERE player_id IN (SELECT player_id FROM guest.players WHERE player_id IN (SELECT DISTINCT player_id FROM \n",
    "    \n",
    "    guest.players WHERE team = 'Seattle') GROUP BY player_id HAVING COUNT(DISTINCT team) > 1)\n",
    "\n",
    "    GROUP BY team, player_name)\n",
    "    \n",
    "SELECT AVG(penalties)\n",
    "    \n",
    "    FROM temp1\n",
    "    \n",
    "    WHERE team = 'Seattle'\n",
    "    ;"
   ]
  },
  {
   "cell_type": "markdown",
   "metadata": {},
   "source": [
    "<details><summary>\n",
    "Possible answer:\n",
    "</summary>\n",
    "WITH temp(name,penalties,team)\n",
    "    \n",
    "    AS\n",
    "    \n",
    "    (SELECT player_name AS name, AVG(CAST(pen_count AS float)) AS penalties, team\n",
    "\n",
    "    FROM guest.players\n",
    "\n",
    "    WHERE player_id IN (SELECT player_id FROM guest.players WHERE player_id IN (SELECT DISTINCT player_id FROM \n",
    "    \n",
    "    guest.players WHERE team = 'Seattle') GROUP BY player_id HAVING COUNT(DISTINCT team) > 1)\n",
    "\n",
    "    GROUP BY team, player_name)\n",
    "    \n",
    "SELECT AVG(penalties)\n",
    "    \n",
    "    FROM temp1\n",
    "    \n",
    "    WHERE team <> 'Seattle'\n",
    "    ;"
   ]
  },
  {
   "cell_type": "markdown",
   "metadata": {},
   "source": [
    "How different are the averages from these queries? Is the average when the team is Seattle higher?"
   ]
  },
  {
   "cell_type": "markdown",
   "metadata": {},
   "source": [
    "## Task B\n",
    "So we now have a definitive answer to the question that we started out with, but being dilligent data scientists, we can't just leave it at that. We want to perform a hypothesis test, treating the rows where team = 'Seattle' and the rows where it does not as different samples to make sure that this result has statistical significance.\n",
    "\n",
    "In order to do this we need 6 pieces of information. The first two are the averages that you just queried. Next write 4 more queries to obtain the other pieces: the standard deviation when the team is Seattle and when team is not Seattle, and the number of rows where the team is Seattle and where the the team is not Seattle. \n",
    "\n",
    "With this information we can conduct a 2 sample hypothesis test"
   ]
  },
  {
   "cell_type": "code",
   "execution_count": 6,
   "metadata": {},
   "outputs": [
    {
     "data": {
      "text/html": [
       "<div>\n",
       "<style scoped>\n",
       "    .dataframe tbody tr th:only-of-type {\n",
       "        vertical-align: middle;\n",
       "    }\n",
       "\n",
       "    .dataframe tbody tr th {\n",
       "        vertical-align: top;\n",
       "    }\n",
       "\n",
       "    .dataframe thead th {\n",
       "        text-align: right;\n",
       "    }\n",
       "</style>\n",
       "<table border=\"1\" class=\"dataframe\">\n",
       "  <thead>\n",
       "    <tr style=\"text-align: right;\">\n",
       "      <th></th>\n",
       "      <th>team</th>\n",
       "      <th>avg_pen</th>\n",
       "      <th>std</th>\n",
       "      <th>num_samples</th>\n",
       "    </tr>\n",
       "  </thead>\n",
       "  <tbody>\n",
       "    <tr>\n",
       "      <th>0</th>\n",
       "      <td>not_Seattle</td>\n",
       "      <td>5.734127</td>\n",
       "      <td>3.031268</td>\n",
       "      <td>63</td>\n",
       "    </tr>\n",
       "    <tr>\n",
       "      <th>1</th>\n",
       "      <td>Seattle</td>\n",
       "      <td>5.487738</td>\n",
       "      <td>1.969397</td>\n",
       "      <td>40</td>\n",
       "    </tr>\n",
       "  </tbody>\n",
       "</table>\n",
       "</div>"
      ],
      "text/plain": [
       "          team   avg_pen       std  num_samples\n",
       "0  not_Seattle  5.734127  3.031268           63\n",
       "1      Seattle  5.487738  1.969397           40"
      ]
     },
     "execution_count": 6,
     "metadata": {},
     "output_type": "execute_result"
    }
   ],
   "source": [
    "query = \"\"\"\n",
    "WITH penalties AS (\n",
    "SELECT player_name AS name, AVG(CAST(pen_count AS float)) AS penalties, \n",
    "      CASE WHEN \n",
    "                team ='Seattle' THEN team\n",
    "                ELSE 'not_Seattle' END AS team\n",
    "\n",
    "FROM guest.players\n",
    "WHERE player_id IN (SELECT player_id FROM guest.players WHERE player_id IN (SELECT DISTINCT player_id FROM guest.players WHERE team = 'Seattle') GROUP BY player_id HAVING COUNT(DISTINCT team) > 1)\n",
    "GROUP BY team, player_name)\n",
    "\n",
    "\n",
    "SELECT team, AVG(penalties) as avg_pen, STDEV(penalties) AS std, COUNT(penalties) AS num_samples\n",
    "  FROM penalties GROUP BY team\n",
    "  \n",
    ";\n",
    "\"\"\"\n",
    "pretty_query(cur, query)"
   ]
  },
  {
   "cell_type": "markdown",
   "metadata": {},
   "source": [
    "<details><summary>\n",
    "Possible answer:\n",
    "</summary>\n",
    "WITH temp(name,penalties,team)\n",
    "    \n",
    "    AS\n",
    "    \n",
    "    (SELECT player_name AS name, AVG(CAST(pen_count AS float)) AS penalties, team\n",
    "\n",
    "    FROM guest.players\n",
    "\n",
    "    WHERE player_id IN (SELECT player_id FROM guest.players WHERE player_id IN (SELECT DISTINCT player_id FROM \n",
    "    \n",
    "    guest.players WHERE team = 'Seattle') GROUP BY player_id HAVING COUNT(DISTINCT team) > 1)\n",
    "\n",
    "    GROUP BY team, player_name)\n",
    "\n",
    "\n",
    "SELECT STDEV(penalties) \n",
    "    \n",
    "    FROM temp\n",
    "    \n",
    "    WHERE team = 'Seattle'\n",
    ";"
   ]
  },
  {
   "cell_type": "markdown",
   "metadata": {},
   "source": [
    "## Task C: Putting it all together\n",
    "Now write a query that utilizes the queries you have already written to calculate our test statistic\n",
    "\n",
    "As a refresher the equation for this will be the mean of group1 - the mean of group2 in the numerator, \n",
    "\n",
    "and the square root of ( (standard dev group1 squared / n group1) + (standard dev group2 squared / n group2) ) in the denominator"
   ]
  },
  {
   "cell_type": "markdown",
   "metadata": {},
   "source": [
    "<details><summary>\n",
    "HINT:\n",
    "</summary>\n",
    "SQL's order of operations will want you to do all of your operations in the first select statement,\n",
    "so your query will be in the format \n",
    "    \n",
    "    SELECT (something - (SELECT next thing FROM temp table etc)) / (more sub queries from previous parts with appropriate operators to perform mathematical operations)\n",
    "    \n",
    "    FROM temp table \n",
    "    \n",
    "    etc"
   ]
  },
  {
   "cell_type": "code",
   "execution_count": 7,
   "metadata": {},
   "outputs": [
    {
     "data": {
      "text/html": [
       "<div>\n",
       "<style scoped>\n",
       "    .dataframe tbody tr th:only-of-type {\n",
       "        vertical-align: middle;\n",
       "    }\n",
       "\n",
       "    .dataframe tbody tr th {\n",
       "        vertical-align: top;\n",
       "    }\n",
       "\n",
       "    .dataframe thead th {\n",
       "        text-align: right;\n",
       "    }\n",
       "</style>\n",
       "<table border=\"1\" class=\"dataframe\">\n",
       "  <thead>\n",
       "    <tr style=\"text-align: right;\">\n",
       "      <th></th>\n",
       "      <th>Ttest_statistic</th>\n",
       "    </tr>\n",
       "  </thead>\n",
       "  <tbody>\n",
       "    <tr>\n",
       "      <th>0</th>\n",
       "      <td>-0.500017</td>\n",
       "    </tr>\n",
       "  </tbody>\n",
       "</table>\n",
       "</div>"
      ],
      "text/plain": [
       "   Ttest_statistic\n",
       "0        -0.500017"
      ]
     },
     "execution_count": 7,
     "metadata": {},
     "output_type": "execute_result"
    }
   ],
   "source": [
    "query = \"\"\"\n",
    "\n",
    "WITH penalties AS (\n",
    "SELECT player_name AS name, AVG(CAST(pen_count AS float)) AS penalties, \n",
    "      CASE WHEN \n",
    "                team ='Seattle' THEN team\n",
    "                ELSE 'not_Seattle' END AS team\n",
    "\n",
    "FROM guest.players\n",
    "WHERE player_id IN (SELECT player_id FROM guest.players WHERE player_id IN (SELECT DISTINCT player_id FROM guest.players WHERE team = 'Seattle') GROUP BY player_id HAVING COUNT(DISTINCT team) > 1)\n",
    "GROUP BY team, player_name),\n",
    "\n",
    "stats AS(SELECT team, AVG(penalties) as avg_pen, STDEV(penalties) AS std, COUNT(penalties) AS num_samples\n",
    "  FROM penalties GROUP BY team)\n",
    "\n",
    "SELECT (s.avg_pen - n.avg_pen) /\n",
    "        SQRT(SQUARE(s.std)/s.num_samples + SQUARE(n.std)/n.num_samples) AS Ttest_statistic\n",
    " FROM\n",
    "        (SELECT * FROM stats WHERE team='Seattle') s,\n",
    "        (SELECT * FROM stats WHERE team='not_Seattle') n\n",
    ";\n",
    "\"\"\"\n",
    "pretty_query(cur, query)"
   ]
  },
  {
   "cell_type": "markdown",
   "metadata": {},
   "source": [
    "<details><summary>\n",
    "Possible answer:\n",
    "</summary>\n",
    "WITH temp(name,penalties,team)\n",
    "    \n",
    "    AS\n",
    "    \n",
    "    (SELECT player_name AS name, AVG(CAST(pen_count AS float)) AS penalties, team\n",
    "    \n",
    "    FROM guest.players\n",
    "    \n",
    "    WHERE player_id IN (SELECT player_id FROM guest.players WHERE player_id IN (SELECT DISTINCT player_id FROM \n",
    "    \n",
    "    guest.players WHERE team = 'Seattle') GROUP BY player_id HAVING COUNT(DISTINCT team) > 1)\n",
    "    \n",
    "    GROUP BY team, player_name)\n",
    "    \n",
    "\n",
    "\n",
    "SELECT (AVG(penalties) - (SELECT AVG(penalties) FROM temp WHERE team = 'Seattle')) \n",
    "    \n",
    "        / (SQRT((POWER((SELECT STDEV(penalties) FROM temp WHERE team = 'Seattle'),2) / (SELECT COUNT(penalties) FROM temp WHERE team = 'Seattle')) +\n",
    "    \n",
    "    (POWER((SELECT STDEV(penalties) FROM temp WHERE team <> 'Seattle'),2) / (SELECT COUNT(penalties) FROM temp WHERE team <> 'Seattle'))))\n",
    "    \n",
    "    FROM temp\n",
    "    \n",
    "    WHERE team <> 'Seattle'\n",
    "    \n",
    ";"
   ]
  },
  {
   "cell_type": "markdown",
   "metadata": {},
   "source": [
    "## Bonus:\n",
    "If you want to check your work or utilize an easier alternative in a functional setting, you can do the following steps to use the t-test function is scipy.stats"
   ]
  },
  {
   "cell_type": "markdown",
   "metadata": {},
   "source": [
    "First write two additional queries, each should return the penalties column from our temporary table, one where the team is seattle and one where it is not.\n",
    "\n",
    "Save the output of these queries to seperate lists, this can be done by simply inserting \n",
    "\n",
    "    name_of_list = \n",
    "    \n",
    "in front of \n",
    "\n",
    "    cur.fetchall()\n",
    "   "
   ]
  },
  {
   "cell_type": "markdown",
   "metadata": {},
   "source": [
    "## Where team is Seattle"
   ]
  },
  {
   "cell_type": "code",
   "execution_count": 8,
   "metadata": {},
   "outputs": [
    {
     "data": {
      "text/html": [
       "<div>\n",
       "<style scoped>\n",
       "    .dataframe tbody tr th:only-of-type {\n",
       "        vertical-align: middle;\n",
       "    }\n",
       "\n",
       "    .dataframe tbody tr th {\n",
       "        vertical-align: top;\n",
       "    }\n",
       "\n",
       "    .dataframe thead th {\n",
       "        text-align: right;\n",
       "    }\n",
       "</style>\n",
       "<table border=\"1\" class=\"dataframe\">\n",
       "  <thead>\n",
       "    <tr style=\"text-align: right;\">\n",
       "      <th></th>\n",
       "      <th>penalties</th>\n",
       "      <th>team</th>\n",
       "    </tr>\n",
       "  </thead>\n",
       "  <tbody>\n",
       "    <tr>\n",
       "      <th>0</th>\n",
       "      <td>5.000000</td>\n",
       "      <td>not_Seattle</td>\n",
       "    </tr>\n",
       "    <tr>\n",
       "      <th>1</th>\n",
       "      <td>6.000000</td>\n",
       "      <td>Seattle</td>\n",
       "    </tr>\n",
       "    <tr>\n",
       "      <th>2</th>\n",
       "      <td>3.500000</td>\n",
       "      <td>not_Seattle</td>\n",
       "    </tr>\n",
       "    <tr>\n",
       "      <th>3</th>\n",
       "      <td>3.000000</td>\n",
       "      <td>Seattle</td>\n",
       "    </tr>\n",
       "    <tr>\n",
       "      <th>4</th>\n",
       "      <td>15.000000</td>\n",
       "      <td>not_Seattle</td>\n",
       "    </tr>\n",
       "    <tr>\n",
       "      <th>...</th>\n",
       "      <td>...</td>\n",
       "      <td>...</td>\n",
       "    </tr>\n",
       "    <tr>\n",
       "      <th>98</th>\n",
       "      <td>4.000000</td>\n",
       "      <td>not_Seattle</td>\n",
       "    </tr>\n",
       "    <tr>\n",
       "      <th>99</th>\n",
       "      <td>4.666667</td>\n",
       "      <td>not_Seattle</td>\n",
       "    </tr>\n",
       "    <tr>\n",
       "      <th>100</th>\n",
       "      <td>4.000000</td>\n",
       "      <td>Seattle</td>\n",
       "    </tr>\n",
       "    <tr>\n",
       "      <th>101</th>\n",
       "      <td>6.000000</td>\n",
       "      <td>not_Seattle</td>\n",
       "    </tr>\n",
       "    <tr>\n",
       "      <th>102</th>\n",
       "      <td>5.500000</td>\n",
       "      <td>Seattle</td>\n",
       "    </tr>\n",
       "  </tbody>\n",
       "</table>\n",
       "<p>103 rows × 2 columns</p>\n",
       "</div>"
      ],
      "text/plain": [
       "     penalties         team\n",
       "0     5.000000  not_Seattle\n",
       "1     6.000000      Seattle\n",
       "2     3.500000  not_Seattle\n",
       "3     3.000000      Seattle\n",
       "4    15.000000  not_Seattle\n",
       "..         ...          ...\n",
       "98    4.000000  not_Seattle\n",
       "99    4.666667  not_Seattle\n",
       "100   4.000000      Seattle\n",
       "101   6.000000  not_Seattle\n",
       "102   5.500000      Seattle\n",
       "\n",
       "[103 rows x 2 columns]"
      ]
     },
     "execution_count": 8,
     "metadata": {},
     "output_type": "execute_result"
    }
   ],
   "source": [
    "query = \"\"\"\n",
    "WITH penalties AS (\n",
    "SELECT player_name AS name, AVG(CAST(pen_count AS float)) AS penalties, \n",
    "      CASE WHEN \n",
    "                team ='Seattle' THEN team\n",
    "                ELSE 'not_Seattle' END AS team\n",
    "\n",
    "FROM guest.players\n",
    "WHERE player_id IN (SELECT player_id FROM guest.players WHERE player_id IN (SELECT DISTINCT player_id FROM guest.players WHERE team = 'Seattle') GROUP BY player_id HAVING COUNT(DISTINCT team) > 1)\n",
    "GROUP BY team, player_name)\n",
    "  \n",
    "SELECT penalties, team FROM penalties\n",
    ";\n",
    "\"\"\"\n",
    "df = pretty_query(cur, query)\n",
    "df"
   ]
  },
  {
   "cell_type": "markdown",
   "metadata": {},
   "source": [
    "<details><summary>\n",
    "Possible answer:\n",
    "</summary>\n",
    "WITH temp(name,penalties,team)\n",
    "\n",
    "    AS\n",
    "    \n",
    "    (SELECT player_name AS name, AVG(CAST(pen_count AS float)) AS penalties, team\n",
    "     \n",
    "    FROM guest.players\n",
    "     \n",
    "    WHERE player_id IN (SELECT player_id FROM guest.players WHERE player_id IN (SELECT DISTINCT player_id FROM guest.players WHERE team = 'Seattle') GROUP BY player_id HAVING COUNT(DISTINCT team) > 1)\n",
    "\n",
    "     GROUP BY team, player_name)\n",
    "\n",
    "SELECT penalties\n",
    "\n",
    "    FROM temp\n",
    "    \n",
    "    WHERE team <> 'Seattle'\n",
    ";"
   ]
  },
  {
   "cell_type": "markdown",
   "metadata": {},
   "source": [
    "## Where team is not Seattle"
   ]
  },
  {
   "cell_type": "code",
   "execution_count": 9,
   "metadata": {},
   "outputs": [],
   "source": [
    "s_pens = df['penalties'][df['team'] == 'Seattle']\n",
    "n_pens = df['penalties'][df['team'] != 'Seattle']"
   ]
  },
  {
   "cell_type": "markdown",
   "metadata": {},
   "source": [
    "<details><summary>\n",
    "Possible answer:\n",
    "</summary>\n",
    "WITH temp(name,penalties,team)\n",
    "\n",
    "    AS\n",
    "    \n",
    "    (SELECT player_name AS name, AVG(CAST(pen_count AS float)) AS penalties, team\n",
    "     \n",
    "    FROM guest.players\n",
    "     \n",
    "    WHERE player_id IN (SELECT player_id FROM guest.players WHERE player_id IN (SELECT DISTINCT player_id FROM guest.players WHERE team = 'Seattle') GROUP BY player_id HAVING COUNT(DISTINCT team) > 1)\n",
    "\n",
    "     GROUP BY team, player_name)\n",
    "\n",
    "SELECT penalties\n",
    "\n",
    "    FROM temp\n",
    "    \n",
    "    WHERE team <> 'Seattle'\n",
    ";"
   ]
  },
  {
   "cell_type": "markdown",
   "metadata": {},
   "source": [
    "Then use \n",
    "\n",
    "    stats.ttest_ind()\n",
    "    \n",
    "with the two lists you just saved to generate our test statistic and corresponding p-value; remember to set the equal_var option to False or you will get a different answer"
   ]
  },
  {
   "cell_type": "markdown",
   "metadata": {},
   "source": [
    "<details><summary>\n",
    "Possible answer:\n",
    "</summary>\n",
    "stats.ttest_ind(otherteams_list, seattle_list, equal_var=False)"
   ]
  },
  {
   "cell_type": "code",
   "execution_count": 10,
   "metadata": {},
   "outputs": [
    {
     "data": {
      "text/plain": [
       "Ttest_indResult(statistic=-0.5000167314225741, pvalue=0.6181517648155634)"
      ]
     },
     "execution_count": 10,
     "metadata": {},
     "output_type": "execute_result"
    }
   ],
   "source": [
    "from scipy import stats\n",
    "stats.ttest_ind(s_pens, n_pens, equal_var=False)"
   ]
  },
  {
   "cell_type": "markdown",
   "metadata": {},
   "source": [
    "## Fun Fact:\n",
    "Oracle sql syntax actually has a built in function to do this type of hypothesis test: STATS_ONE_WAY_ANOVA()\n",
    "\n",
    "If you ever find yourself performing sql queries with oracle, this may be a helpful function to take a look at.\n",
    "Unfortunately this command doesn't work in sql server"
   ]
  },
  {
   "cell_type": "code",
   "execution_count": null,
   "metadata": {},
   "outputs": [],
   "source": []
  }
 ],
 "metadata": {
  "kernelspec": {
   "display_name": "Python 3",
   "language": "python",
   "name": "python3"
  },
  "language_info": {
   "codemirror_mode": {
    "name": "ipython",
    "version": 3
   },
   "file_extension": ".py",
   "mimetype": "text/x-python",
   "name": "python",
   "nbconvert_exporter": "python",
   "pygments_lexer": "ipython3",
   "version": "3.7.4"
  }
 },
 "nbformat": 4,
 "nbformat_minor": 4
}
