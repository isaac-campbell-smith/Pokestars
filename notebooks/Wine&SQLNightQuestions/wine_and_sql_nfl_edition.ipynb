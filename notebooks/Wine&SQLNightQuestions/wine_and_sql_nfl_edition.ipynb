{
 "cells": [
  {
   "cell_type": "markdown",
   "metadata": {},
   "source": [
    "# credit Doug Hart: https://github.com/dougtheeconomist"
   ]
  },
  {
   "cell_type": "markdown",
   "metadata": {},
   "source": [
    "## First make sure proper necessary installations are made"
   ]
  },
  {
   "cell_type": "markdown",
   "metadata": {},
   "source": [
    "brew update <br>\n",
    "brew install freetds"
   ]
  },
  {
   "cell_type": "code",
   "execution_count": null,
   "metadata": {},
   "outputs": [],
   "source": [
    "!pip install pymssql"
   ]
  },
  {
   "cell_type": "markdown",
   "metadata": {},
   "source": [
    "## Alternative to last line if needed\n",
    "\n",
    "        HOMEBREW_NO_ENV_FILTERING=1 ACCEPT_EULA=Y brew install msodbcsql17 mssql-tools"
   ]
  },
  {
   "cell_type": "markdown",
   "metadata": {},
   "source": [
    "## Then run imports and test your connection:"
   ]
  },
  {
   "cell_type": "code",
   "execution_count": 1,
   "metadata": {},
   "outputs": [],
   "source": [
    "import pandas as pd\n",
    "import pymssql\n",
    "\n",
    "import sys\n",
    "sys.path.append('../../')\n",
    "from src.pySQL_funcs import pretty_query\n",
    "\n",
    "with open('../../src/pw2') as pw_file:\n",
    "    server, user, pw, database = pw_file.readline().split(',')"
   ]
  },
  {
   "cell_type": "code",
   "execution_count": 2,
   "metadata": {},
   "outputs": [],
   "source": [
    "conn = pymssql.connect(host=server,user=user,password=pw,database=database)\n",
    "cur = conn.cursor()"
   ]
  },
  {
   "cell_type": "code",
   "execution_count": 3,
   "metadata": {},
   "outputs": [],
   "source": [
    "def pretty_query(cur, query):\n",
    "    \"\"\"\n",
    "    Function to Pandas-prettify for Pythonic SQL Server queries\n",
    "    *NOTE* It is recommended to alias any aggregate calculation columns\n",
    "           because pymssql doesn't seem to auto generate one (returns an empty string).\n",
    "    \"\"\"\n",
    "    cur.execute(query)\n",
    "    data = cur.fetchall()\n",
    "    headers = [col[0] for col in cur.description]\n",
    "    out = pd.DataFrame(data=data, columns=headers)\n",
    "    return out"
   ]
  },
  {
   "cell_type": "markdown",
   "metadata": {},
   "source": [
    "### Run the following querry to make sure that eveything works"
   ]
  },
  {
   "cell_type": "code",
   "execution_count": 4,
   "metadata": {},
   "outputs": [
    {
     "data": {
      "text/html": [
       "<div>\n",
       "<style scoped>\n",
       "    .dataframe tbody tr th:only-of-type {\n",
       "        vertical-align: middle;\n",
       "    }\n",
       "\n",
       "    .dataframe tbody tr th {\n",
       "        vertical-align: top;\n",
       "    }\n",
       "\n",
       "    .dataframe thead th {\n",
       "        text-align: right;\n",
       "    }\n",
       "</style>\n",
       "<table border=\"1\" class=\"dataframe\">\n",
       "  <thead>\n",
       "    <tr style=\"text-align: right;\">\n",
       "      <th></th>\n",
       "      <th></th>\n",
       "    </tr>\n",
       "  </thead>\n",
       "  <tbody>\n",
       "    <tr>\n",
       "      <th>0</th>\n",
       "      <td>2019</td>\n",
       "    </tr>\n",
       "  </tbody>\n",
       "</table>\n",
       "</div>"
      ],
      "text/plain": [
       "       \n",
       "0  2019"
      ]
     },
     "execution_count": 4,
     "metadata": {},
     "output_type": "execute_result"
    }
   ],
   "source": [
    "query = \"\"\"\n",
    "SELECT MAX(year) FROM guest.players;\n",
    "\"\"\"\n",
    "pretty_query(cur, query)"
   ]
  },
  {
   "cell_type": "markdown",
   "metadata": {},
   "source": [
    "## Questions to address with this data:"
   ]
  },
  {
   "cell_type": "markdown",
   "metadata": {},
   "source": [
    "#### Q1 \n",
    "Write a querry to return the 5 teams who have averaged the highest number of penalties in the last 4 seasons (2016 through 2019) Your querry should return the team id number, team name(city) and the team's average penalties over this period. "
   ]
  },
  {
   "cell_type": "code",
   "execution_count": null,
   "metadata": {},
   "outputs": [],
   "source": [
    "query = \"\"\"\n",
    "Your code here;\n",
    "\"\"\"\n",
    "cur.execute(query)\n",
    "cur.fetchall() "
   ]
  },
  {
   "cell_type": "markdown",
   "metadata": {},
   "source": [
    "### Answer:"
   ]
  },
  {
   "cell_type": "code",
   "execution_count": null,
   "metadata": {},
   "outputs": [],
   "source": [
    "query = \"\"\"\n",
    "PENDING ;\n",
    "\"\"\"\n",
    "cur.execute(query)\n",
    "cur.fetchall() "
   ]
  },
  {
   "cell_type": "markdown",
   "metadata": {},
   "source": [
    "#### Q2 \n",
    "Next we want to know if the Seahawks started to draw more penalties once Pete Carroll took over as head coach in 2010?\n",
    "There are several ways to do this. Your querry should return the average number of penalties per season during the Carroll era as well as the average in years prior to this under a different head coach."
   ]
  },
  {
   "cell_type": "code",
   "execution_count": null,
   "metadata": {},
   "outputs": [],
   "source": [
    "query = \"\"\"\n",
    "Your code here;\n",
    "\"\"\"\n",
    "cur.execute(query)\n",
    "cur.fetchall() "
   ]
  },
  {
   "cell_type": "markdown",
   "metadata": {},
   "source": [
    "### Q3\n",
    "In order to really see if the Seahawks are being unfairly targeted for penalties we want to look at a player who has played on a couple of different teams.\n",
    "\n",
    "To do this we'll look at Richard Sherman, who was let go by Seattle after 2017 and picked up by San Francisco. \n",
    "\n",
    "Write a querry that returns Sherman's average flags per season as a Seahawk and as a 49er. Are the averages different?"
   ]
  },
  {
   "cell_type": "code",
   "execution_count": null,
   "metadata": {},
   "outputs": [],
   "source": [
    "query = \"\"\"\n",
    "Your code here;\n",
    "\"\"\"\n",
    "cur.execute(query)\n",
    "cur.fetchall() "
   ]
  }
 ],
 "metadata": {
  "kernelspec": {
   "display_name": "Python 3",
   "language": "python",
   "name": "python3"
  },
  "language_info": {
   "codemirror_mode": {
    "name": "ipython",
    "version": 3
   },
   "file_extension": ".py",
   "mimetype": "text/x-python",
   "name": "python",
   "nbconvert_exporter": "python",
   "pygments_lexer": "ipython3",
   "version": "3.7.4"
  }
 },
 "nbformat": 4,
 "nbformat_minor": 4
}
