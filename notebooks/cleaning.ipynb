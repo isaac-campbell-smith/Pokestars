{
 "cells": [
  {
   "cell_type": "code",
   "execution_count": 89,
   "metadata": {},
   "outputs": [],
   "source": [
    "import json\n",
    "import os\n",
    "from collections import defaultdict\n",
    "import pandas as pd\n",
    "import numpy as np"
   ]
  },
  {
   "cell_type": "code",
   "execution_count": 99,
   "metadata": {},
   "outputs": [],
   "source": [
    "## USAGE EXTRACTION\n",
    "read_folder = '../data/raw/chaos/'\n",
    "write_folder = '../data/clean/'"
   ]
  },
  {
   "cell_type": "code",
   "execution_count": 129,
   "metadata": {},
   "outputs": [],
   "source": [
    "usage_df = pd.DataFrame(columns=['pokemon', 'usage', 'month'])\n",
    "for fp in sorted(os.listdir(read_folder)):\n",
    "    try:\n",
    "        with open(read_folder+fp, 'r') as f:\n",
    "            d = json.load(f)\n",
    "\n",
    "        month = fp[-7:-5] + '-' + fp[:4]\n",
    "        to_save = defaultdict(list)\n",
    "\n",
    "        for pokemon, d_vals in d['data'].items():\n",
    "\n",
    "            to_save['pokemon'].append(pokemon)\n",
    "            to_save['usage'].append(round(d_vals['usage'], 7))\n",
    "            to_save['month'].append(month)\n",
    "\n",
    "        usage_df = pd.concat([usage_df, pd.DataFrame(to_save)], sort=False, ignore_index=True)\n",
    "    except:\n",
    "        pass"
   ]
  },
  {
   "cell_type": "code",
   "execution_count": 123,
   "metadata": {},
   "outputs": [],
   "source": [
    "usage_df.to_csv(write_folder+'usage.csv', header=True, index=False)"
   ]
  },
  {
   "cell_type": "code",
   "execution_count": null,
   "metadata": {},
   "outputs": [],
   "source": []
  }
 ],
 "metadata": {
  "kernelspec": {
   "display_name": "Python 3",
   "language": "python",
   "name": "python3"
  },
  "language_info": {
   "codemirror_mode": {
    "name": "ipython",
    "version": 3
   },
   "file_extension": ".py",
   "mimetype": "text/x-python",
   "name": "python",
   "nbconvert_exporter": "python",
   "pygments_lexer": "ipython3",
   "version": "3.7.4"
  }
 },
 "nbformat": 4,
 "nbformat_minor": 4
}
