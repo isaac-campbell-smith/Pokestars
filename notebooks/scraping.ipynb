{
 "cells": [
  {
   "cell_type": "code",
   "execution_count": 1,
   "metadata": {},
   "outputs": [],
   "source": [
    "from bs4 import BeautifulSoup\n",
    "from collections import defaultdict\n",
    "import pandas as pd\n",
    "import requests\n",
    "import time\n",
    "import pickle\n",
    "import json"
   ]
  },
  {
   "cell_type": "code",
   "execution_count": 2,
   "metadata": {},
   "outputs": [],
   "source": [
    "def make_link(head, tail, i):\n",
    "    #construct scrape link & filename        \n",
    "    folder = '../data/raw/chaos/'\n",
    "    \n",
    "    url = head + str(i).zfill(2) + tail\n",
    "    fp = folder + url.split('/chaos')[0][-7:].replace('-', '_') + '.json'\n",
    "    \n",
    "    return [url, fp]\n",
    "\n",
    "def write_data(lst):\n",
    "    \n",
    "    d = get_data(lst[0])\n",
    "    \n",
    "    with open(lst[1], 'w') as fp:\n",
    "        json.dump(d, fp)\n",
    "        \n",
    "def get_data(url):\n",
    "    r = requests.get(url)\n",
    "    content = r.content\n",
    "    data = json.loads(content)\n",
    "    return data"
   ]
  },
  {
   "cell_type": "code",
   "execution_count": 3,
   "metadata": {},
   "outputs": [],
   "source": [
    "#changes on 17-07, again on 19-12\n",
    "tail1 = '/chaos/ou-0.json'\n",
    "tail2 = '/chaos/gen7ou-0.json'\n",
    "tail3 = '/chaos/gen8ou-0.json'\n",
    "url_list = []\n",
    "\n",
    "base_url1 = 'https://www.smogon.com/stats/2014-'\n",
    "for i in [11, 12]:\n",
    "    url_list.append(make_link(base_url1, tail1, i))\n",
    "\n",
    "base_url2 = 'https://www.smogon.com/stats/201'\n",
    "for n in [5, 6]:\n",
    "    l = f'{base_url2}{n}-'\n",
    "    for i in range(1, 13):\n",
    "        url_list.append(make_link(l, tail1, i))\n",
    "        \n",
    "base_url3 = 'https://www.smogon.com/stats/2017-'\n",
    "for i in range(1, 7):\n",
    "    url_list.append(make_link(base_url3, tail1, i))\n",
    "for i in range(7, 13):\n",
    "    url_list.append(make_link(base_url3, tail2, i))\n",
    "    \n",
    "base_url4 = 'https://www.smogon.com/stats/2018-'\n",
    "for i in range(1, 13):\n",
    "    url_list.append(make_link(base_url4, tail2, i))\n",
    "    \n",
    "base_url5 = 'https://www.smogon.com/stats/2019-'\n",
    "for i in range(1,12):\n",
    "    url_list.append(make_link(base_url5, tail2, i))\n",
    "url_list.append(make_link(base_url5, tail3, 12))\n",
    "    \n",
    "base_url6 = 'https://www.smogon.com/stats/2020-'\n",
    "for i in range(1, 7):\n",
    "    url_list.append(make_link(base_url6, tail3, i))"
   ]
  },
  {
   "cell_type": "code",
   "execution_count": 4,
   "metadata": {},
   "outputs": [],
   "source": [
    "for lst in url_list:\n",
    "    write_data(lst)"
   ]
  },
  {
   "cell_type": "code",
   "execution_count": null,
   "metadata": {},
   "outputs": [],
   "source": []
  }
 ],
 "metadata": {
  "kernelspec": {
   "display_name": "Python 3",
   "language": "python",
   "name": "python3"
  },
  "language_info": {
   "codemirror_mode": {
    "name": "ipython",
    "version": 3
   },
   "file_extension": ".py",
   "mimetype": "text/x-python",
   "name": "python",
   "nbconvert_exporter": "python",
   "pygments_lexer": "ipython3",
   "version": "3.7.4"
  }
 },
 "nbformat": 4,
 "nbformat_minor": 4
}
